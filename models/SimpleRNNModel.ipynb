{
 "cells": [
  {
   "cell_type": "markdown",
   "id": "dc2df748-cfe6-4d62-a75c-ba5185879bb1",
   "metadata": {},
   "source": [
    "## The final (preliminary) model training/testing using the final dataset for this milestone can be found under the \"New Data\" heading"
   ]
  },
  {
   "cell_type": "code",
   "execution_count": 15,
   "id": "79a7ea36-6b28-49cc-8d96-f4cb4f3079be",
   "metadata": {
    "tags": []
   },
   "outputs": [],
   "source": [
    "import numpy as np\n",
    "import pandas as pd\n",
    "import os\n",
    "import keras"
   ]
  },
  {
   "cell_type": "code",
   "execution_count": 2,
   "id": "c30f3c0d-bcf5-49bd-be94-ddffff3e48b9",
   "metadata": {
    "tags": []
   },
   "outputs": [
    {
     "name": "stdout",
     "output_type": "stream",
     "text": [
      "Working directory set to: /sfs/gpfs/tardis/home/rmd9ev/Documents/MSDS/DS6050/Project\n"
     ]
    }
   ],
   "source": [
    "current_path = os.getcwd()\n",
    "os.chdir(current_path)\n",
    "print(f\"Working directory set to: {current_path}\")"
   ]
  },
  {
   "cell_type": "code",
   "execution_count": 3,
   "id": "f7501b12-d42b-45e0-8333-acc984eac6f5",
   "metadata": {
    "tags": []
   },
   "outputs": [],
   "source": [
    "import pandas as pd\n",
    "import glob\n",
    "\n",
    "# Get all CSV file paths\n",
    "csv_files = glob.glob(\"/sfs/gpfs/tardis/home/rmd9ev/Documents/MSDS/DS6050/Project/final_data/*.csv\")\n",
    "\n",
    "csv_files_sorted = sorted(csv_files)\n",
    "\n",
    "# Read and concatenate all CSV files into a single DataFrame\n",
    "dataframes = [pd.read_csv(file) for file in csv_files_sorted]\n",
    "combined_df = pd.concat(dataframes, ignore_index=True)\n",
    "\n",
    "# Inspect the combined DataFrame\n",
    "#combined_df.head()"
   ]
  },
  {
   "cell_type": "code",
   "execution_count": 4,
   "id": "b8e321fa-924d-489b-a0ff-69e14181cde6",
   "metadata": {
    "tags": []
   },
   "outputs": [],
   "source": [
    "X_data = combined_df[['insurance','race','marital_status','gender','anchor_age','value','amount','amountuom','label','sequence_num']]"
   ]
  },
  {
   "cell_type": "code",
   "execution_count": 5,
   "id": "3f95254b-8401-4f46-b8d3-26983755e549",
   "metadata": {
    "tags": []
   },
   "outputs": [],
   "source": [
    "data_encoded = pd.get_dummies(X_data, columns=['insurance','race','marital_status','gender','amountuom','label','value'])"
   ]
  },
  {
   "cell_type": "code",
   "execution_count": 6,
   "id": "d2624db3-0caf-41a3-8bd6-824be76b5f1e",
   "metadata": {
    "tags": []
   },
   "outputs": [
    {
     "data": {
      "text/plain": [
       "anchor_age                      0\n",
       "amount                      15856\n",
       "sequence_num                    0\n",
       "insurance_Medicaid              0\n",
       "insurance_Medicare              0\n",
       "                            ...  \n",
       "value_SIMV/PSV/AutoFlow         0\n",
       "value_SPONT                     0\n",
       "value_Sensor Medic (HFO)        0\n",
       "value_Standby                   0\n",
       "value_VOL/AC                    0\n",
       "Length: 104, dtype: int64"
      ]
     },
     "execution_count": 6,
     "metadata": {},
     "output_type": "execute_result"
    }
   ],
   "source": [
    "#NaN values in amount\n",
    "data_encoded.isna().sum()"
   ]
  },
  {
   "cell_type": "code",
   "execution_count": 7,
   "id": "5618542e-d73e-4e3d-94e9-b0fdbe92bf12",
   "metadata": {
    "tags": []
   },
   "outputs": [],
   "source": [
    " data_encoded['amount'] = data_encoded['amount'].fillna(0)"
   ]
  },
  {
   "cell_type": "code",
   "execution_count": 8,
   "id": "b8bc4071-f66b-40b4-9bde-f68c7dfcb2b9",
   "metadata": {
    "tags": []
   },
   "outputs": [
    {
     "data": {
      "text/plain": [
       "0"
      ]
     },
     "execution_count": 8,
     "metadata": {},
     "output_type": "execute_result"
    }
   ],
   "source": [
    "data_encoded.isna().sum().sum()"
   ]
  },
  {
   "cell_type": "code",
   "execution_count": 9,
   "id": "88f780ef-01a5-4674-9786-afd654536cf4",
   "metadata": {
    "tags": []
   },
   "outputs": [
    {
     "name": "stdout",
     "output_type": "stream",
     "text": [
      "Training set size: 850479\n",
      "Validation set size: 182245\n",
      "Testing set size: 182246\n"
     ]
    }
   ],
   "source": [
    "from sklearn.model_selection import train_test_split\n",
    "\n",
    "# Split into features (X) and target labels (y)\n",
    "X = data_encoded.values  \n",
    "X = X.astype(np.float32)\n",
    "y = combined_df['Died'].values  \n",
    "y = y.astype(np.int32)\n",
    "\n",
    "# Split data into training, validation, and testing sets (e.g., 70% train, 15% val, 15% test)\n",
    "X_train, X_temp, y_train, y_temp = train_test_split(X, y, test_size=0.3, random_state=42)\n",
    "X_val, X_test, y_val, y_test = train_test_split(X_temp, y_temp, test_size=0.5, random_state=42)\n",
    "\n",
    "print(\"Training set size:\", len(X_train))\n",
    "print(\"Validation set size:\", len(X_val))\n",
    "print(\"Testing set size:\", len(X_test))"
   ]
  },
  {
   "cell_type": "code",
   "execution_count": 10,
   "id": "65248392-a7b5-43af-8de8-ec74f734fe24",
   "metadata": {
    "tags": []
   },
   "outputs": [
    {
     "name": "stderr",
     "output_type": "stream",
     "text": [
      "2024-11-09 16:40:43.465303: I tensorflow/core/common_runtime/gpu/gpu_device.cc:2021] Created device /job:localhost/replica:0/task:0/device:GPU:0 with 31027 MB memory:  -> device: 0, name: Tesla V100-SXM2-32GB, pci bus id: 0000:af:00.0, compute capability: 7.0\n"
     ]
    }
   ],
   "source": [
    "import tensorflow as tf\n",
    "\n",
    "# Define a function to convert arrays to TensorFlow Datasets\n",
    "def to_tf_dataset(X, y, batch_size=32):\n",
    "    dataset = tf.data.Dataset.from_tensor_slices((X, y))\n",
    "    dataset = dataset.shuffle(buffer_size=len(X)).batch(batch_size).prefetch(buffer_size=tf.data.experimental.AUTOTUNE)\n",
    "    return dataset\n",
    "\n",
    "#def to_tf_dataset(X, y, batch_size=32):\n",
    "#    dataset = tf.data.Dataset.from_tensor_slices((X, y))\n",
    " #   dataset = dataset.shuffle(buffer_size=len(X)).padded_batch(\n",
    "#        batch_size,\n",
    "#        padded_shapes=([104,], []),\n",
    "#        padding_values=(0.0, 0)\n",
    "#        ).prefetch(buffer_size=tf.data.experimental.AUTOTUNE)\n",
    "#    return dataset\n",
    "\n",
    "# Create TensorFlow Datasets\n",
    "train_dataset = to_tf_dataset(X_train, y_train)\n",
    "val_dataset = to_tf_dataset(X_val, y_val)\n",
    "test_dataset = to_tf_dataset(X_test, y_test)\n"
   ]
  },
  {
   "cell_type": "code",
   "execution_count": 11,
   "id": "1950ffbe-bddf-4c61-bf03-e7aca9f931ac",
   "metadata": {
    "tags": []
   },
   "outputs": [
    {
     "name": "stdout",
     "output_type": "stream",
     "text": [
      "tf.Tensor(\n",
      "[[ 70.  74.  99. ...   0.   0.   0.]\n",
      " [ 67. 124. 223. ...   0.   0.   0.]\n",
      " [ 79.  80.  78. ...   0.   0.   0.]\n",
      " ...\n",
      " [ 77.  88. 451. ...   0.   0.   0.]\n",
      " [ 87.  11. 351. ...   0.   0.   0.]\n",
      " [ 67.  80.  55. ...   0.   0.   0.]], shape=(32, 104), dtype=float32) tf.Tensor([0 0 0 0 0 0 0 0 0 0 1 0 0 0 0 0 0 0 0 0 0 0 0 0 0 1 0 0 1 0 1 0], shape=(32,), dtype=int32)\n"
     ]
    },
    {
     "name": "stderr",
     "output_type": "stream",
     "text": [
      "2024-11-08 15:47:41.791040: I tensorflow/core/framework/local_rendezvous.cc:404] Local rendezvous is aborting with status: OUT_OF_RANGE: End of sequence\n"
     ]
    }
   ],
   "source": [
    "# Inspect the dataset\n",
    "for x, y in train_dataset.take(1):\n",
    "    print(x, y)"
   ]
  },
  {
   "cell_type": "code",
   "execution_count": 12,
   "id": "a8dd1b88-60b1-472e-a59e-f8e8ee11335b",
   "metadata": {
    "tags": []
   },
   "outputs": [
    {
     "name": "stdout",
     "output_type": "stream",
     "text": [
      "(TensorSpec(shape=(None, 104), dtype=tf.float32, name=None), TensorSpec(shape=(None,), dtype=tf.int32, name=None))\n"
     ]
    }
   ],
   "source": [
    "element_spec = train_dataset.element_spec\n",
    "print(element_spec)\n",
    "#train_dataset.tf.shape"
   ]
  },
  {
   "cell_type": "code",
   "execution_count": 13,
   "id": "7b46028b-89d7-43d8-971e-cbd0c169485f",
   "metadata": {
    "tags": []
   },
   "outputs": [
    {
     "name": "stderr",
     "output_type": "stream",
     "text": [
      "/home/rmd9ev/.local/lib/python3.10/site-packages/keras/src/layers/rnn/rnn.py:204: UserWarning: Do not pass an `input_shape`/`input_dim` argument to a layer. When using Sequential models, prefer using an `Input(shape)` object as the first layer in the model instead.\n",
      "  super().__init__(**kwargs)\n"
     ]
    },
    {
     "name": "stdout",
     "output_type": "stream",
     "text": [
      "Epoch 1/10\n"
     ]
    },
    {
     "name": "stderr",
     "output_type": "stream",
     "text": [
      "WARNING: All log messages before absl::InitializeLog() is called are written to STDERR\n",
      "I0000 00:00:1731098886.191180  875957 service.cc:146] XLA service 0x56304da2a560 initialized for platform CUDA (this does not guarantee that XLA will be used). Devices:\n",
      "I0000 00:00:1731098886.191233  875957 service.cc:154]   StreamExecutor device (0): NVIDIA RTX A6000, Compute Capability 8.6\n",
      "2024-11-08 15:48:06.220152: I tensorflow/compiler/mlir/tensorflow/utils/dump_mlir_util.cc:268] disabling MLIR crash reproducer, set env var `MLIR_CRASH_REPRODUCER_DIRECTORY` to enable.\n",
      "2024-11-08 15:48:06.341418: I external/local_xla/xla/stream_executor/cuda/cuda_dnn.cc:531] Loaded cuDNN version 8904\n"
     ]
    },
    {
     "name": "stdout",
     "output_type": "stream",
     "text": [
      "\u001b[1m   43/26578\u001b[0m \u001b[37m━━━━━━━━━━━━━━━━━━━━\u001b[0m \u001b[1m1:44\u001b[0m 4ms/step - binary_accuracy: 0.7550 - loss: 2.1356"
     ]
    },
    {
     "name": "stderr",
     "output_type": "stream",
     "text": [
      "I0000 00:00:1731098886.965833  875957 device_compiler.h:188] Compiled cluster using XLA!  This line is logged at most once for the lifetime of the process.\n"
     ]
    },
    {
     "name": "stdout",
     "output_type": "stream",
     "text": [
      "\u001b[1m26578/26578\u001b[0m \u001b[32m━━━━━━━━━━━━━━━━━━━━\u001b[0m\u001b[37m\u001b[0m \u001b[1m110s\u001b[0m 4ms/step - binary_accuracy: 0.7512 - loss: 1.8763 - val_binary_accuracy: 0.7510 - val_loss: 0.5616\n",
      "Epoch 2/10\n",
      "\u001b[1m26578/26578\u001b[0m \u001b[32m━━━━━━━━━━━━━━━━━━━━\u001b[0m\u001b[37m\u001b[0m \u001b[1m108s\u001b[0m 4ms/step - binary_accuracy: 0.7507 - loss: 0.5617 - val_binary_accuracy: 0.7510 - val_loss: 0.5613\n",
      "Epoch 3/10\n",
      "\u001b[1m26578/26578\u001b[0m \u001b[32m━━━━━━━━━━━━━━━━━━━━\u001b[0m\u001b[37m\u001b[0m \u001b[1m108s\u001b[0m 4ms/step - binary_accuracy: 0.7506 - loss: 0.5618 - val_binary_accuracy: 0.7510 - val_loss: 0.5615\n",
      "Epoch 4/10\n",
      "\u001b[1m26578/26578\u001b[0m \u001b[32m━━━━━━━━━━━━━━━━━━━━\u001b[0m\u001b[37m\u001b[0m \u001b[1m109s\u001b[0m 4ms/step - binary_accuracy: 0.7506 - loss: 0.5617 - val_binary_accuracy: 0.7510 - val_loss: 0.5612\n",
      "Epoch 5/10\n",
      "\u001b[1m26578/26578\u001b[0m \u001b[32m━━━━━━━━━━━━━━━━━━━━\u001b[0m\u001b[37m\u001b[0m \u001b[1m109s\u001b[0m 4ms/step - binary_accuracy: 0.7509 - loss: 0.5614 - val_binary_accuracy: 0.7510 - val_loss: 0.5615\n",
      "Epoch 6/10\n",
      "\u001b[1m26578/26578\u001b[0m \u001b[32m━━━━━━━━━━━━━━━━━━━━\u001b[0m\u001b[37m\u001b[0m \u001b[1m109s\u001b[0m 4ms/step - binary_accuracy: 0.7510 - loss: 0.5613 - val_binary_accuracy: 0.7510 - val_loss: 0.5612\n",
      "Epoch 7/10\n",
      "\u001b[1m26578/26578\u001b[0m \u001b[32m━━━━━━━━━━━━━━━━━━━━\u001b[0m\u001b[37m\u001b[0m \u001b[1m108s\u001b[0m 4ms/step - binary_accuracy: 0.7512 - loss: 0.5611 - val_binary_accuracy: 0.7510 - val_loss: 0.5613\n",
      "Epoch 8/10\n",
      "\u001b[1m26578/26578\u001b[0m \u001b[32m━━━━━━━━━━━━━━━━━━━━\u001b[0m\u001b[37m\u001b[0m \u001b[1m109s\u001b[0m 4ms/step - binary_accuracy: 0.7496 - loss: 0.5629 - val_binary_accuracy: 0.7510 - val_loss: 0.5612\n",
      "Epoch 9/10\n",
      "\u001b[1m26578/26578\u001b[0m \u001b[32m━━━━━━━━━━━━━━━━━━━━\u001b[0m\u001b[37m\u001b[0m \u001b[1m108s\u001b[0m 4ms/step - binary_accuracy: 0.7502 - loss: 0.5622 - val_binary_accuracy: 0.7510 - val_loss: 0.5612\n",
      "Epoch 10/10\n",
      "\u001b[1m26578/26578\u001b[0m \u001b[32m━━━━━━━━━━━━━━━━━━━━\u001b[0m\u001b[37m\u001b[0m \u001b[1m109s\u001b[0m 4ms/step - binary_accuracy: 0.7505 - loss: 0.5619 - val_binary_accuracy: 0.7510 - val_loss: 0.5613\n"
     ]
    }
   ],
   "source": [
    "#model 1\n",
    "np.random.seed(42)\n",
    "tf.random.set_seed(42)\n",
    "batch_size = 32\n",
    "model = keras.models.Sequential([\n",
    "    keras.layers.SimpleRNN(1,input_shape = (None,1))\n",
    "])\n",
    "\n",
    "optimizer = keras.optimizers.Adam(learning_rate = 0.001)\n",
    "model.compile(loss= keras.losses.BinaryCrossentropy(), \n",
    "              optimizer=optimizer,\n",
    "              metrics=[tf.metrics.BinaryAccuracy(threshold=0.5)]\n",
    "             )\n",
    "history = model.fit(train_dataset, epochs=10,\n",
    "                    validation_data=(val_dataset))"
   ]
  },
  {
   "cell_type": "code",
   "execution_count": 14,
   "id": "955a9880-ce24-4d1a-8319-a7b7624da7f4",
   "metadata": {
    "tags": []
   },
   "outputs": [
    {
     "name": "stdout",
     "output_type": "stream",
     "text": [
      "\u001b[1m5696/5696\u001b[0m \u001b[32m━━━━━━━━━━━━━━━━━━━━\u001b[0m\u001b[37m\u001b[0m \u001b[1m10s\u001b[0m 2ms/step - binary_accuracy: 0.7530 - loss: 0.5593\n",
      "Loss:  0.5597178339958191\n",
      "Accuracy:  0.7525377869606018\n"
     ]
    }
   ],
   "source": [
    "loss, accuracy = model.evaluate(test_dataset)\n",
    "\n",
    "print(\"Loss: \", loss)\n",
    "print(\"Accuracy: \", accuracy)\n"
   ]
  },
  {
   "cell_type": "code",
   "execution_count": 11,
   "id": "094ca568-cfbd-4818-8b0a-5187ea7bb2b6",
   "metadata": {
    "tags": []
   },
   "outputs": [
    {
     "name": "stderr",
     "output_type": "stream",
     "text": [
      "/home/rmd9ev/.local/lib/python3.10/site-packages/keras/src/layers/core/input_layer.py:26: UserWarning: Argument `input_shape` is deprecated. Use `shape` instead.\n",
      "  warnings.warn(\n",
      "/home/rmd9ev/.local/lib/python3.10/site-packages/keras/src/layers/core/masking.py:47: UserWarning: Do not pass an `input_shape`/`input_dim` argument to a layer. When using Sequential models, prefer using an `Input(shape)` object as the first layer in the model instead.\n",
      "  super().__init__(**kwargs)\n"
     ]
    },
    {
     "name": "stdout",
     "output_type": "stream",
     "text": [
      "Epoch 1/5\n"
     ]
    },
    {
     "ename": "ValueError",
     "evalue": "Exception encountered when calling Sequential.call().\n\n\u001b[1mInvalid input shape for input Tensor(\"data:0\", shape=(None, 104), dtype=float32). Expected shape (None, None, 104), but input has incompatible shape (None, 104)\u001b[0m\n\nArguments received by Sequential.call():\n  • inputs=tf.Tensor(shape=(None, 104), dtype=float32)\n  • training=True\n  • mask=None",
     "output_type": "error",
     "traceback": [
      "\u001b[0;31m---------------------------------------------------------------------------\u001b[0m",
      "\u001b[0;31mValueError\u001b[0m                                Traceback (most recent call last)",
      "Cell \u001b[0;32mIn[11], line 11\u001b[0m\n\u001b[1;32m      8\u001b[0m model\u001b[38;5;241m.\u001b[39mcompile(optimizer\u001b[38;5;241m=\u001b[39m\u001b[38;5;124m'\u001b[39m\u001b[38;5;124madam\u001b[39m\u001b[38;5;124m'\u001b[39m, loss\u001b[38;5;241m=\u001b[39m\u001b[38;5;124m'\u001b[39m\u001b[38;5;124mbinary_crossentropy\u001b[39m\u001b[38;5;124m'\u001b[39m, metrics\u001b[38;5;241m=\u001b[39m[\u001b[38;5;124m'\u001b[39m\u001b[38;5;124maccuracy\u001b[39m\u001b[38;5;124m'\u001b[39m])\n\u001b[1;32m     10\u001b[0m \u001b[38;5;66;03m# Train\u001b[39;00m\n\u001b[0;32m---> 11\u001b[0m history \u001b[38;5;241m=\u001b[39m \u001b[43mmodel\u001b[49m\u001b[38;5;241;43m.\u001b[39;49m\u001b[43mfit\u001b[49m\u001b[43m(\u001b[49m\u001b[43mtrain_dataset\u001b[49m\u001b[43m,\u001b[49m\u001b[43m \u001b[49m\u001b[43mepochs\u001b[49m\u001b[38;5;241;43m=\u001b[39;49m\u001b[38;5;241;43m5\u001b[39;49m\u001b[43m,\u001b[49m\n\u001b[1;32m     12\u001b[0m \u001b[43m                    \u001b[49m\u001b[43mvalidation_data\u001b[49m\u001b[38;5;241;43m=\u001b[39;49m\u001b[43m(\u001b[49m\u001b[43mval_dataset\u001b[49m\u001b[43m)\u001b[49m\u001b[43m)\u001b[49m        \n",
      "File \u001b[0;32m~/.local/lib/python3.10/site-packages/keras/src/utils/traceback_utils.py:122\u001b[0m, in \u001b[0;36mfilter_traceback.<locals>.error_handler\u001b[0;34m(*args, **kwargs)\u001b[0m\n\u001b[1;32m    119\u001b[0m     filtered_tb \u001b[38;5;241m=\u001b[39m _process_traceback_frames(e\u001b[38;5;241m.\u001b[39m__traceback__)\n\u001b[1;32m    120\u001b[0m     \u001b[38;5;66;03m# To get the full stack trace, call:\u001b[39;00m\n\u001b[1;32m    121\u001b[0m     \u001b[38;5;66;03m# `keras.config.disable_traceback_filtering()`\u001b[39;00m\n\u001b[0;32m--> 122\u001b[0m     \u001b[38;5;28;01mraise\u001b[39;00m e\u001b[38;5;241m.\u001b[39mwith_traceback(filtered_tb) \u001b[38;5;28;01mfrom\u001b[39;00m \u001b[38;5;28;01mNone\u001b[39;00m\n\u001b[1;32m    123\u001b[0m \u001b[38;5;28;01mfinally\u001b[39;00m:\n\u001b[1;32m    124\u001b[0m     \u001b[38;5;28;01mdel\u001b[39;00m filtered_tb\n",
      "File \u001b[0;32m~/.local/lib/python3.10/site-packages/keras/src/models/functional.py:264\u001b[0m, in \u001b[0;36mFunctional._adjust_input_rank\u001b[0;34m(self, flat_inputs)\u001b[0m\n\u001b[1;32m    262\u001b[0m             adjusted\u001b[38;5;241m.\u001b[39mappend(ops\u001b[38;5;241m.\u001b[39mexpand_dims(x, axis\u001b[38;5;241m=\u001b[39m\u001b[38;5;241m-\u001b[39m\u001b[38;5;241m1\u001b[39m))\n\u001b[1;32m    263\u001b[0m             \u001b[38;5;28;01mcontinue\u001b[39;00m\n\u001b[0;32m--> 264\u001b[0m     \u001b[38;5;28;01mraise\u001b[39;00m \u001b[38;5;167;01mValueError\u001b[39;00m(\n\u001b[1;32m    265\u001b[0m         \u001b[38;5;124mf\u001b[39m\u001b[38;5;124m\"\u001b[39m\u001b[38;5;124mInvalid input shape for input \u001b[39m\u001b[38;5;132;01m{\u001b[39;00mx\u001b[38;5;132;01m}\u001b[39;00m\u001b[38;5;124m. Expected shape \u001b[39m\u001b[38;5;124m\"\u001b[39m\n\u001b[1;32m    266\u001b[0m         \u001b[38;5;124mf\u001b[39m\u001b[38;5;124m\"\u001b[39m\u001b[38;5;132;01m{\u001b[39;00mref_shape\u001b[38;5;132;01m}\u001b[39;00m\u001b[38;5;124m, but input has incompatible shape \u001b[39m\u001b[38;5;132;01m{\u001b[39;00mx\u001b[38;5;241m.\u001b[39mshape\u001b[38;5;132;01m}\u001b[39;00m\u001b[38;5;124m\"\u001b[39m\n\u001b[1;32m    267\u001b[0m     )\n\u001b[1;32m    268\u001b[0m \u001b[38;5;66;03m# Add back metadata.\u001b[39;00m\n\u001b[1;32m    269\u001b[0m \u001b[38;5;28;01mfor\u001b[39;00m i \u001b[38;5;129;01min\u001b[39;00m \u001b[38;5;28mrange\u001b[39m(\u001b[38;5;28mlen\u001b[39m(flat_inputs)):\n",
      "\u001b[0;31mValueError\u001b[0m: Exception encountered when calling Sequential.call().\n\n\u001b[1mInvalid input shape for input Tensor(\"data:0\", shape=(None, 104), dtype=float32). Expected shape (None, None, 104), but input has incompatible shape (None, 104)\u001b[0m\n\nArguments received by Sequential.call():\n  • inputs=tf.Tensor(shape=(None, 104), dtype=float32)\n  • training=True\n  • mask=None"
     ]
    }
   ],
   "source": [
    "model = keras.models.Sequential([\n",
    "    keras.layers.InputLayer(input_shape=(None,104)), \n",
    "    keras.layers.Masking(mask_value=0.0, input_shape=(None, 1)),  # for variable-length sequences\n",
    "    keras.layers.SimpleRNN(32),  # SimpleRNN with 32 units\n",
    "    keras.layers.Dense(1, activation='sigmoid') \n",
    "])\n",
    "\n",
    "model.compile(optimizer='adam', loss='binary_crossentropy', metrics=['accuracy'])\n",
    "\n",
    "# Train\n",
    "history = model.fit(train_dataset, epochs=5,\n",
    "                    validation_data=(val_dataset))        \n",
    "    \n"
   ]
  },
  {
   "cell_type": "code",
   "execution_count": 16,
   "id": "281de0e2-28fa-48ad-88f4-25f136207659",
   "metadata": {},
   "outputs": [
    {
     "name": "stdout",
     "output_type": "stream",
     "text": [
      "Epoch 1/5\n",
      "\u001b[1m26578/26578\u001b[0m \u001b[32m━━━━━━━━━━━━━━━━━━━━\u001b[0m\u001b[37m\u001b[0m \u001b[1m266s\u001b[0m 10ms/step - accuracy: 0.7691 - loss: 0.4878 - val_accuracy: 0.7860 - val_loss: 0.4799\n",
      "Epoch 2/5\n",
      "\u001b[1m26578/26578\u001b[0m \u001b[32m━━━━━━━━━━━━━━━━━━━━\u001b[0m\u001b[37m\u001b[0m \u001b[1m265s\u001b[0m 10ms/step - accuracy: 0.7742 - loss: 0.4825 - val_accuracy: 0.7846 - val_loss: 0.4761\n",
      "Epoch 3/5\n",
      "\u001b[1m26578/26578\u001b[0m \u001b[32m━━━━━━━━━━━━━━━━━━━━\u001b[0m\u001b[37m\u001b[0m \u001b[1m266s\u001b[0m 10ms/step - accuracy: 0.7754 - loss: 0.4819 - val_accuracy: 0.7830 - val_loss: 0.4791\n",
      "Epoch 4/5\n",
      "\u001b[1m26578/26578\u001b[0m \u001b[32m━━━━━━━━━━━━━━━━━━━━\u001b[0m\u001b[37m\u001b[0m \u001b[1m269s\u001b[0m 10ms/step - accuracy: 0.7742 - loss: 0.4816 - val_accuracy: 0.7570 - val_loss: 0.4921\n",
      "Epoch 5/5\n",
      "\u001b[1m26578/26578\u001b[0m \u001b[32m━━━━━━━━━━━━━━━━━━━━\u001b[0m\u001b[37m\u001b[0m \u001b[1m267s\u001b[0m 10ms/step - accuracy: 0.7722 - loss: 0.4840 - val_accuracy: 0.7853 - val_loss: 0.4760\n"
     ]
    }
   ],
   "source": [
    "# model 2\n",
    "# Build the model\n",
    "model = keras.models.Sequential([\n",
    "    keras.layers.Masking(mask_value=0.0, input_shape=(None, 1)),  # for variable-length sequences\n",
    "    keras.layers.SimpleRNN(32),  # SimpleRNN with 32 units\n",
    "    keras.layers.Dense(1, activation='sigmoid') \n",
    "])\n",
    "\n",
    "model.compile(optimizer='adam', loss='binary_crossentropy', metrics=['accuracy'])\n",
    "\n",
    "# Train\n",
    "history = model.fit(train_dataset, epochs=5,\n",
    "                    validation_data=(val_dataset))"
   ]
  },
  {
   "cell_type": "code",
   "execution_count": 17,
   "id": "fc9ef3e3-8eff-4f3c-874c-449879ba9944",
   "metadata": {},
   "outputs": [
    {
     "name": "stdout",
     "output_type": "stream",
     "text": [
      "\u001b[1m5696/5696\u001b[0m \u001b[32m━━━━━━━━━━━━━━━━━━━━\u001b[0m\u001b[37m\u001b[0m \u001b[1m7s\u001b[0m 1ms/step - accuracy: 0.7869 - loss: 0.4739\n",
      "Loss:  0.4750058948993683\n",
      "Accuracy:  0.7862943410873413\n"
     ]
    }
   ],
   "source": [
    "loss, accuracy = model.evaluate(test_dataset)\n",
    "\n",
    "print(\"Loss: \", loss)\n",
    "print(\"Accuracy: \", accuracy)\n"
   ]
  },
  {
   "cell_type": "code",
   "execution_count": null,
   "id": "a43ed7e8-923f-4081-b11b-e93919aedc33",
   "metadata": {},
   "outputs": [],
   "source": [
    "#imbalanced data?\n",
    "#data augmentation?"
   ]
  },
  {
   "cell_type": "code",
   "execution_count": null,
   "id": "a6acd483-031e-4350-94a3-df35fd9e3ea8",
   "metadata": {},
   "outputs": [],
   "source": []
  },
  {
   "cell_type": "code",
   "execution_count": null,
   "id": "f6df17d2-af80-4130-afc5-755f636e93f1",
   "metadata": {},
   "outputs": [],
   "source": []
  },
  {
   "cell_type": "code",
   "execution_count": null,
   "id": "b154cfcc-5b2c-4478-9187-27c7ea313740",
   "metadata": {},
   "outputs": [],
   "source": []
  },
  {
   "cell_type": "code",
   "execution_count": null,
   "id": "66ca6875-7b4d-4b31-bd68-48dd811bbd7f",
   "metadata": {},
   "outputs": [],
   "source": []
  },
  {
   "cell_type": "markdown",
   "id": "9ffce26a-be73-4188-a5ba-7366e30c9187",
   "metadata": {},
   "source": [
    "## Model trial #2, same data, new processing"
   ]
  },
  {
   "cell_type": "code",
   "execution_count": 18,
   "id": "d72ba908-38c0-4350-8e20-e44d7a5bbfe3",
   "metadata": {
    "tags": []
   },
   "outputs": [],
   "source": [
    "import pandas as pd\n",
    "from os import listdir\n",
    "import numpy as np\n",
    "from sklearn.model_selection import train_test_split\n",
    "from sklearn.preprocessing import LabelEncoder\n",
    "from tensorflow.keras.models import Sequential, load_model\n",
    "from tensorflow.keras.layers import GRU, Dense, Masking, InputLayer\n",
    "from tensorflow.keras.optimizers import Adam\n",
    "from sklearn.model_selection import RandomizedSearchCV\n",
    "from tensorflow.keras.preprocessing.sequence import pad_sequences\n",
    "from sklearn.base import BaseEstimator\n",
    "\n",
    "\n",
    "import pandas as pd\n",
    "import glob\n",
    "\n",
    "# Get all CSV file paths\n",
    "csv_files = glob.glob(\"/sfs/gpfs/tardis/home/rmd9ev/Documents/MSDS/DS6050/Project/final_data2/*.csv\")\n",
    "\n",
    "csv_files_sorted = sorted(csv_files)\n",
    "\n",
    "# Read and concatenate all CSV files into a single DataFrame\n",
    "dataframes = [pd.read_csv(file) for file in csv_files_sorted]\n",
    "combined_df = pd.concat(dataframes, ignore_index=True)\n",
    "\n",
    "# Handle categorical variables with Label Encoding\n",
    "label_encoder = LabelEncoder()\n",
    "\n",
    "# Encode categorical features\n",
    "categorical_columns = ['insurance', 'race', 'marital_status', 'gender', 'value', 'amountuom', 'amount']\n",
    "for col in categorical_columns:\n",
    "    combined_df[col] = label_encoder.fit_transform(combined_df[col].astype(str))\n",
    "\n",
    "# Encode target variable `Died` (binary classification: 0 = Alive, 1 = Died)\n",
    "combined_df['Died'] = label_encoder.fit_transform(combined_df['Died'])\n",
    "\n",
    "# Sort by Unique Stay and sequence number to get events in correct order\n",
    "combined_df.sort_values(by=['Unique Stay', 'sequence_num'], inplace=True)\n",
    "\n",
    "# Create sequences of features for each Unique Stay\n",
    "sequence_data = []\n",
    "sequence_labels = []\n",
    "\n",
    "unique_stays = combined_df['Unique Stay'].unique()\n",
    "\n",
    "# Iterate over unique stays\n",
    "for stay in unique_stays:\n",
    "    stay_data = combined_df[combined_df['Unique Stay'] == stay]\n",
    "    stay_features = stay_data[['insurance', 'race', 'marital_status', 'gender', 'anchor_age', 'value', 'amount', 'amountuom']].values\n",
    "    stay_label = stay_data['Died'].values[-1]  # Use the last event to define the label\n",
    "    \n",
    "    # Add the sequence and its corresponding label\n",
    "    sequence_data.append(stay_features)\n",
    "    sequence_labels.append(stay_label)\n",
    "\n",
    "# Pad sequences to ensure uniform input length\n",
    "sequence_data = pad_sequences(sequence_data, padding='post', dtype='float32', maxlen=50)  # Adjust maxlen as needed\n",
    "\n",
    "# Convert labels to numpy array\n",
    "sequence_labels = np.array(sequence_labels)\n",
    "\n",
    "# Train-test split\n",
    "X_train, X_test, y_train, y_test = train_test_split(sequence_data, sequence_labels, test_size=0.2, random_state=42)\n"
   ]
  },
  {
   "cell_type": "code",
   "execution_count": 28,
   "id": "b7416437-e856-4cb1-91bf-b91087366749",
   "metadata": {
    "tags": []
   },
   "outputs": [
    {
     "name": "stdout",
     "output_type": "stream",
     "text": [
      "Training set size: 4288\n",
      "Testing set size: 1073\n"
     ]
    }
   ],
   "source": [
    "print(\"Training set size:\", len(X_train))\n",
    "print(\"Testing set size:\", len(X_test))"
   ]
  },
  {
   "cell_type": "code",
   "execution_count": 30,
   "id": "88dab02e-3155-439d-ba9f-6144438ec998",
   "metadata": {
    "tags": []
   },
   "outputs": [
    {
     "name": "stdout",
     "output_type": "stream",
     "text": [
      "Epoch 1/5\n",
      "\u001b[1m134/134\u001b[0m \u001b[32m━━━━━━━━━━━━━━━━━━━━\u001b[0m\u001b[37m\u001b[0m \u001b[1m2s\u001b[0m 5ms/step - accuracy: 0.9021 - loss: 0.4512\n",
      "Epoch 2/5\n",
      "\u001b[1m134/134\u001b[0m \u001b[32m━━━━━━━━━━━━━━━━━━━━\u001b[0m\u001b[37m\u001b[0m \u001b[1m1s\u001b[0m 5ms/step - accuracy: 0.8999 - loss: 0.3256\n",
      "Epoch 3/5\n",
      "\u001b[1m134/134\u001b[0m \u001b[32m━━━━━━━━━━━━━━━━━━━━\u001b[0m\u001b[37m\u001b[0m \u001b[1m1s\u001b[0m 5ms/step - accuracy: 0.9052 - loss: 0.3137\n",
      "Epoch 4/5\n",
      "\u001b[1m134/134\u001b[0m \u001b[32m━━━━━━━━━━━━━━━━━━━━\u001b[0m\u001b[37m\u001b[0m \u001b[1m1s\u001b[0m 5ms/step - accuracy: 0.9011 - loss: 0.3226\n",
      "Epoch 5/5\n",
      "\u001b[1m134/134\u001b[0m \u001b[32m━━━━━━━━━━━━━━━━━━━━\u001b[0m\u001b[37m\u001b[0m \u001b[1m1s\u001b[0m 5ms/step - accuracy: 0.9012 - loss: 0.3228\n"
     ]
    }
   ],
   "source": [
    "model = keras.models.Sequential([\n",
    "    keras.layers.InputLayer(input_shape=(X_train.shape[1], X_train.shape[2])), \n",
    "    keras.layers.Masking(mask_value=0.0),  # for variable-length sequences\n",
    "    keras.layers.SimpleRNN(32),  # SimpleRNN with 32 units\n",
    "    keras.layers.Dense(1, activation='sigmoid') \n",
    "])\n",
    "\n",
    "model.compile(optimizer='adam', loss='binary_crossentropy', metrics=['accuracy'])\n",
    "\n",
    "# Train\n",
    "history = model.fit(X_train, y_train, epochs=5)    \n",
    "    \n"
   ]
  },
  {
   "cell_type": "code",
   "execution_count": 32,
   "id": "82243157-126e-415d-a359-aec78a0d60ac",
   "metadata": {
    "tags": []
   },
   "outputs": [
    {
     "name": "stdout",
     "output_type": "stream",
     "text": [
      "\u001b[1m34/34\u001b[0m \u001b[32m━━━━━━━━━━━━━━━━━━━━\u001b[0m\u001b[37m\u001b[0m \u001b[1m1s\u001b[0m 11ms/step - accuracy: 0.9068 - loss: 0.3101\n",
      "Loss:  0.31016674637794495\n",
      "Accuracy:  0.9068033695220947\n"
     ]
    }
   ],
   "source": [
    "loss, accuracy = model.evaluate(X_test,y_test)\n",
    "\n",
    "print(\"Loss: \", loss)\n",
    "print(\"Accuracy: \", accuracy)"
   ]
  },
  {
   "cell_type": "code",
   "execution_count": null,
   "id": "c7eac6dd-9720-4d3e-9d0a-c808971dea43",
   "metadata": {},
   "outputs": [],
   "source": []
  },
  {
   "cell_type": "code",
   "execution_count": null,
   "id": "687e9b3e-8635-49ee-86df-979fa524c596",
   "metadata": {},
   "outputs": [],
   "source": []
  },
  {
   "cell_type": "code",
   "execution_count": null,
   "id": "f7735f9a-d261-4d6c-8071-d97085edfbcf",
   "metadata": {},
   "outputs": [],
   "source": []
  },
  {
   "cell_type": "code",
   "execution_count": null,
   "id": "296c8c70-5a1f-40fb-89fd-e613ef50c7be",
   "metadata": {},
   "outputs": [],
   "source": []
  },
  {
   "cell_type": "markdown",
   "id": "495a0ba7-1f9a-48d6-9249-a286f89ea33e",
   "metadata": {},
   "source": [
    "## Final Data used for the final (preliminary) model"
   ]
  },
  {
   "cell_type": "code",
   "execution_count": 4,
   "id": "75c54b2b-c9f3-49be-95e9-b0d72f23f4d0",
   "metadata": {},
   "outputs": [
    {
     "name": "stderr",
     "output_type": "stream",
     "text": [
      "2024-11-10 17:45:32.348687: E external/local_xla/xla/stream_executor/cuda/cuda_fft.cc:485] Unable to register cuFFT factory: Attempting to register factory for plugin cuFFT when one has already been registered\n",
      "2024-11-10 17:45:32.367035: E external/local_xla/xla/stream_executor/cuda/cuda_dnn.cc:8454] Unable to register cuDNN factory: Attempting to register factory for plugin cuDNN when one has already been registered\n",
      "2024-11-10 17:45:32.372744: E external/local_xla/xla/stream_executor/cuda/cuda_blas.cc:1452] Unable to register cuBLAS factory: Attempting to register factory for plugin cuBLAS when one has already been registered\n",
      "2024-11-10 17:45:32.386734: I tensorflow/core/platform/cpu_feature_guard.cc:210] This TensorFlow binary is optimized to use available CPU instructions in performance-critical operations.\n",
      "To enable the following instructions: AVX2 FMA, in other operations, rebuild TensorFlow with the appropriate compiler flags.\n"
     ]
    }
   ],
   "source": [
    "import pandas as pd\n",
    "from os import listdir\n",
    "import numpy as np\n",
    "from sklearn.model_selection import train_test_split\n",
    "from sklearn.preprocessing import LabelEncoder\n",
    "from sklearn.model_selection import RandomizedSearchCV\n",
    "from sklearn.base import BaseEstimator\n",
    "\n",
    "import tensorflow as tf\n",
    "#from tensorflow import keras"
   ]
  },
  {
   "cell_type": "code",
   "execution_count": 5,
   "id": "224ff5cc-4efa-4b0e-ab18-d27679075617",
   "metadata": {
    "tags": []
   },
   "outputs": [],
   "source": [
    "data_path = \"/sfs/gpfs/tardis/home/rmd9ev/Documents/MSDS/DS6050/Project/data/final_data\"\n",
    "\n",
    "# Files to read\n",
    "data_files = listdir(data_path)\n",
    "\n",
    "# Load data\n",
    "data = pd.concat([pd.read_csv(data_path + '/' + file) for file in data_files[1:]])"
   ]
  },
  {
   "cell_type": "code",
   "execution_count": 6,
   "id": "b19f4bd5-2086-4a0b-9bad-41e50b4fd8d9",
   "metadata": {
    "tags": []
   },
   "outputs": [
    {
     "data": {
      "text/html": [
       "<div>\n",
       "<style scoped>\n",
       "    .dataframe tbody tr th:only-of-type {\n",
       "        vertical-align: middle;\n",
       "    }\n",
       "\n",
       "    .dataframe tbody tr th {\n",
       "        vertical-align: top;\n",
       "    }\n",
       "\n",
       "    .dataframe thead th {\n",
       "        text-align: right;\n",
       "    }\n",
       "</style>\n",
       "<table border=\"1\" class=\"dataframe\">\n",
       "  <thead>\n",
       "    <tr style=\"text-align: right;\">\n",
       "      <th></th>\n",
       "      <th>Unique Stay</th>\n",
       "      <th>time_bucket</th>\n",
       "      <th>anchor_age</th>\n",
       "      <th>mortality</th>\n",
       "      <th>sequence_num</th>\n",
       "      <th>Arterial Blood Pressure mean</th>\n",
       "      <th>Arterial O2 pressure</th>\n",
       "      <th>Creatinine (serum)</th>\n",
       "      <th>Dobutamine</th>\n",
       "      <th>Dopamine</th>\n",
       "      <th>Epinephrine</th>\n",
       "      <th>Heart Rate</th>\n",
       "      <th>Inspired O2 Fraction</th>\n",
       "      <th>Lactic Acid</th>\n",
       "      <th>Norepinephrine</th>\n",
       "      <th>Platelet Count</th>\n",
       "      <th>Total Bilirubin</th>\n",
       "    </tr>\n",
       "  </thead>\n",
       "  <tbody>\n",
       "    <tr>\n",
       "      <th>0</th>\n",
       "      <td>1000201323581541</td>\n",
       "      <td>2160-05-18 10:00:00</td>\n",
       "      <td>53.0</td>\n",
       "      <td>False</td>\n",
       "      <td>1.0</td>\n",
       "      <td>NaN</td>\n",
       "      <td>421.0</td>\n",
       "      <td>NaN</td>\n",
       "      <td>NaN</td>\n",
       "      <td>NaN</td>\n",
       "      <td>NaN</td>\n",
       "      <td>NaN</td>\n",
       "      <td>NaN</td>\n",
       "      <td>3.3</td>\n",
       "      <td>NaN</td>\n",
       "      <td>NaN</td>\n",
       "      <td>NaN</td>\n",
       "    </tr>\n",
       "    <tr>\n",
       "      <th>1</th>\n",
       "      <td>1000201323581541</td>\n",
       "      <td>2160-05-18 11:00:00</td>\n",
       "      <td>53.0</td>\n",
       "      <td>False</td>\n",
       "      <td>3.0</td>\n",
       "      <td>NaN</td>\n",
       "      <td>NaN</td>\n",
       "      <td>NaN</td>\n",
       "      <td>NaN</td>\n",
       "      <td>NaN</td>\n",
       "      <td>NaN</td>\n",
       "      <td>NaN</td>\n",
       "      <td>NaN</td>\n",
       "      <td>2.8</td>\n",
       "      <td>NaN</td>\n",
       "      <td>NaN</td>\n",
       "      <td>NaN</td>\n",
       "    </tr>\n",
       "    <tr>\n",
       "      <th>2</th>\n",
       "      <td>1000201323581541</td>\n",
       "      <td>2160-05-18 12:00:00</td>\n",
       "      <td>53.0</td>\n",
       "      <td>False</td>\n",
       "      <td>4.0</td>\n",
       "      <td>NaN</td>\n",
       "      <td>384.0</td>\n",
       "      <td>NaN</td>\n",
       "      <td>NaN</td>\n",
       "      <td>NaN</td>\n",
       "      <td>NaN</td>\n",
       "      <td>NaN</td>\n",
       "      <td>NaN</td>\n",
       "      <td>3.1</td>\n",
       "      <td>NaN</td>\n",
       "      <td>NaN</td>\n",
       "      <td>NaN</td>\n",
       "    </tr>\n",
       "    <tr>\n",
       "      <th>3</th>\n",
       "      <td>1000201323581541</td>\n",
       "      <td>2160-05-18 13:00:00</td>\n",
       "      <td>53.0</td>\n",
       "      <td>False</td>\n",
       "      <td>7.0</td>\n",
       "      <td>NaN</td>\n",
       "      <td>311.0</td>\n",
       "      <td>NaN</td>\n",
       "      <td>NaN</td>\n",
       "      <td>NaN</td>\n",
       "      <td>NaN</td>\n",
       "      <td>NaN</td>\n",
       "      <td>NaN</td>\n",
       "      <td>2.6</td>\n",
       "      <td>NaN</td>\n",
       "      <td>252.0</td>\n",
       "      <td>NaN</td>\n",
       "    </tr>\n",
       "    <tr>\n",
       "      <th>4</th>\n",
       "      <td>1000201323581541</td>\n",
       "      <td>2160-05-18 14:00:00</td>\n",
       "      <td>53.0</td>\n",
       "      <td>False</td>\n",
       "      <td>11.0</td>\n",
       "      <td>94.0</td>\n",
       "      <td>332.0</td>\n",
       "      <td>1.1</td>\n",
       "      <td>NaN</td>\n",
       "      <td>NaN</td>\n",
       "      <td>NaN</td>\n",
       "      <td>80.0</td>\n",
       "      <td>100.0</td>\n",
       "      <td>NaN</td>\n",
       "      <td>NaN</td>\n",
       "      <td>254.0</td>\n",
       "      <td>NaN</td>\n",
       "    </tr>\n",
       "  </tbody>\n",
       "</table>\n",
       "</div>"
      ],
      "text/plain": [
       "        Unique Stay          time_bucket  anchor_age  mortality  sequence_num  \\\n",
       "0  1000201323581541  2160-05-18 10:00:00        53.0      False           1.0   \n",
       "1  1000201323581541  2160-05-18 11:00:00        53.0      False           3.0   \n",
       "2  1000201323581541  2160-05-18 12:00:00        53.0      False           4.0   \n",
       "3  1000201323581541  2160-05-18 13:00:00        53.0      False           7.0   \n",
       "4  1000201323581541  2160-05-18 14:00:00        53.0      False          11.0   \n",
       "\n",
       "   Arterial Blood Pressure mean  Arterial O2 pressure  Creatinine (serum)  \\\n",
       "0                           NaN                 421.0                 NaN   \n",
       "1                           NaN                   NaN                 NaN   \n",
       "2                           NaN                 384.0                 NaN   \n",
       "3                           NaN                 311.0                 NaN   \n",
       "4                          94.0                 332.0                 1.1   \n",
       "\n",
       "   Dobutamine  Dopamine  Epinephrine  Heart Rate  Inspired O2 Fraction  \\\n",
       "0         NaN       NaN          NaN         NaN                   NaN   \n",
       "1         NaN       NaN          NaN         NaN                   NaN   \n",
       "2         NaN       NaN          NaN         NaN                   NaN   \n",
       "3         NaN       NaN          NaN         NaN                   NaN   \n",
       "4         NaN       NaN          NaN        80.0                 100.0   \n",
       "\n",
       "   Lactic Acid  Norepinephrine  Platelet Count  Total Bilirubin  \n",
       "0          3.3             NaN             NaN              NaN  \n",
       "1          2.8             NaN             NaN              NaN  \n",
       "2          3.1             NaN             NaN              NaN  \n",
       "3          2.6             NaN           252.0              NaN  \n",
       "4          NaN             NaN           254.0              NaN  "
      ]
     },
     "execution_count": 6,
     "metadata": {},
     "output_type": "execute_result"
    }
   ],
   "source": [
    "data.head()"
   ]
  },
  {
   "cell_type": "code",
   "execution_count": 7,
   "id": "cd241d4a-1049-4dc5-a542-bcfc6d399265",
   "metadata": {
    "tags": []
   },
   "outputs": [
    {
     "data": {
      "text/plain": [
       "Unique Stay                          0\n",
       "time_bucket                          0\n",
       "anchor_age                           0\n",
       "mortality                            0\n",
       "sequence_num                         0\n",
       "Arterial Blood Pressure mean    151250\n",
       "Arterial O2 pressure            275099\n",
       "Creatinine (serum)              288769\n",
       "Dobutamine                      306916\n",
       "Dopamine                        307026\n",
       "Epinephrine                     301929\n",
       "Heart Rate                       52536\n",
       "Inspired O2 Fraction            269565\n",
       "Lactic Acid                     290887\n",
       "Norepinephrine                  293959\n",
       "Platelet Count                  287295\n",
       "Total Bilirubin                 305054\n",
       "dtype: int64"
      ]
     },
     "execution_count": 7,
     "metadata": {},
     "output_type": "execute_result"
    }
   ],
   "source": [
    "data.isna().sum()"
   ]
  },
  {
   "cell_type": "code",
   "execution_count": 8,
   "id": "620f2130-22c2-434e-89ad-5daa93045f39",
   "metadata": {
    "tags": []
   },
   "outputs": [],
   "source": [
    "na_data = ['Arterial Blood Pressure mean', 'Arterial O2 pressure', 'Creatinine (serum)','Dobutamine','Dopamine','Epinephrine','Heart Rate','Inspired O2 Fraction','Lactic Acid',\n",
    "          'Norepinephrine','Platelet Count','Total Bilirubin']\n",
    "for i in na_data:\n",
    "    data[i].fillna(method = 'bfill', inplace= True)"
   ]
  },
  {
   "cell_type": "code",
   "execution_count": 9,
   "id": "26ec6f0f-3da4-4431-8bc7-29ec383a6f03",
   "metadata": {
    "tags": []
   },
   "outputs": [
    {
     "data": {
      "text/plain": [
       "Unique Stay                         0\n",
       "time_bucket                         0\n",
       "anchor_age                          0\n",
       "mortality                           0\n",
       "sequence_num                        0\n",
       "Arterial Blood Pressure mean        1\n",
       "Arterial O2 pressure                9\n",
       "Creatinine (serum)                  2\n",
       "Dobutamine                      11625\n",
       "Dopamine                         3858\n",
       "Epinephrine                        35\n",
       "Heart Rate                          0\n",
       "Inspired O2 Fraction                0\n",
       "Lactic Acid                         1\n",
       "Norepinephrine                    100\n",
       "Platelet Count                     15\n",
       "Total Bilirubin                   113\n",
       "dtype: int64"
      ]
     },
     "execution_count": 9,
     "metadata": {},
     "output_type": "execute_result"
    }
   ],
   "source": [
    "data.isna().sum()"
   ]
  },
  {
   "cell_type": "code",
   "execution_count": 10,
   "id": "860a4014-79a3-410a-a10b-8e5fb2e24f8c",
   "metadata": {
    "tags": []
   },
   "outputs": [],
   "source": [
    "na_data = ['Arterial Blood Pressure mean','Arterial O2 pressure', 'Creatinine (serum)','Dobutamine','Dopamine','Epinephrine','Lactic Acid',\n",
    "          'Norepinephrine','Platelet Count','Total Bilirubin']\n",
    "for i in na_data:\n",
    "    data[i].fillna(method = 'ffill', inplace= True)"
   ]
  },
  {
   "cell_type": "code",
   "execution_count": 11,
   "id": "3d8f60fb-178a-46b9-9dce-ade55b62ef52",
   "metadata": {
    "tags": []
   },
   "outputs": [
    {
     "data": {
      "text/plain": [
       "Unique Stay                     0\n",
       "time_bucket                     0\n",
       "anchor_age                      0\n",
       "mortality                       0\n",
       "sequence_num                    0\n",
       "Arterial Blood Pressure mean    0\n",
       "Arterial O2 pressure            0\n",
       "Creatinine (serum)              0\n",
       "Dobutamine                      0\n",
       "Dopamine                        0\n",
       "Epinephrine                     0\n",
       "Heart Rate                      0\n",
       "Inspired O2 Fraction            0\n",
       "Lactic Acid                     0\n",
       "Norepinephrine                  0\n",
       "Platelet Count                  0\n",
       "Total Bilirubin                 0\n",
       "dtype: int64"
      ]
     },
     "execution_count": 11,
     "metadata": {},
     "output_type": "execute_result"
    }
   ],
   "source": [
    "data.isna().sum()"
   ]
  },
  {
   "cell_type": "code",
   "execution_count": 12,
   "id": "ee468fac-5442-4af6-8c4c-f2e4df36f1e1",
   "metadata": {
    "tags": []
   },
   "outputs": [
    {
     "data": {
      "text/html": [
       "<div>\n",
       "<style scoped>\n",
       "    .dataframe tbody tr th:only-of-type {\n",
       "        vertical-align: middle;\n",
       "    }\n",
       "\n",
       "    .dataframe tbody tr th {\n",
       "        vertical-align: top;\n",
       "    }\n",
       "\n",
       "    .dataframe thead th {\n",
       "        text-align: right;\n",
       "    }\n",
       "</style>\n",
       "<table border=\"1\" class=\"dataframe\">\n",
       "  <thead>\n",
       "    <tr style=\"text-align: right;\">\n",
       "      <th></th>\n",
       "      <th>Unique Stay</th>\n",
       "      <th>time_bucket</th>\n",
       "      <th>anchor_age</th>\n",
       "      <th>mortality</th>\n",
       "      <th>sequence_num</th>\n",
       "      <th>Arterial Blood Pressure mean</th>\n",
       "      <th>Arterial O2 pressure</th>\n",
       "      <th>Creatinine (serum)</th>\n",
       "      <th>Dobutamine</th>\n",
       "      <th>Dopamine</th>\n",
       "      <th>Epinephrine</th>\n",
       "      <th>Heart Rate</th>\n",
       "      <th>Inspired O2 Fraction</th>\n",
       "      <th>Lactic Acid</th>\n",
       "      <th>Norepinephrine</th>\n",
       "      <th>Platelet Count</th>\n",
       "      <th>Total Bilirubin</th>\n",
       "    </tr>\n",
       "  </thead>\n",
       "  <tbody>\n",
       "    <tr>\n",
       "      <th>0</th>\n",
       "      <td>1000201323581541</td>\n",
       "      <td>2160-05-18 10:00:00</td>\n",
       "      <td>53.0</td>\n",
       "      <td>False</td>\n",
       "      <td>1.0</td>\n",
       "      <td>94.0</td>\n",
       "      <td>421.0</td>\n",
       "      <td>1.1</td>\n",
       "      <td>13.272410</td>\n",
       "      <td>50.000001</td>\n",
       "      <td>0.448468</td>\n",
       "      <td>80.0</td>\n",
       "      <td>100.0</td>\n",
       "      <td>3.3</td>\n",
       "      <td>0.057591</td>\n",
       "      <td>252.0</td>\n",
       "      <td>0.8</td>\n",
       "    </tr>\n",
       "    <tr>\n",
       "      <th>1</th>\n",
       "      <td>1000201323581541</td>\n",
       "      <td>2160-05-18 11:00:00</td>\n",
       "      <td>53.0</td>\n",
       "      <td>False</td>\n",
       "      <td>3.0</td>\n",
       "      <td>94.0</td>\n",
       "      <td>384.0</td>\n",
       "      <td>1.1</td>\n",
       "      <td>13.272410</td>\n",
       "      <td>50.000001</td>\n",
       "      <td>0.448468</td>\n",
       "      <td>80.0</td>\n",
       "      <td>100.0</td>\n",
       "      <td>2.8</td>\n",
       "      <td>0.057591</td>\n",
       "      <td>252.0</td>\n",
       "      <td>0.8</td>\n",
       "    </tr>\n",
       "    <tr>\n",
       "      <th>2</th>\n",
       "      <td>1000201323581541</td>\n",
       "      <td>2160-05-18 12:00:00</td>\n",
       "      <td>53.0</td>\n",
       "      <td>False</td>\n",
       "      <td>4.0</td>\n",
       "      <td>94.0</td>\n",
       "      <td>384.0</td>\n",
       "      <td>1.1</td>\n",
       "      <td>13.272410</td>\n",
       "      <td>50.000001</td>\n",
       "      <td>0.448468</td>\n",
       "      <td>80.0</td>\n",
       "      <td>100.0</td>\n",
       "      <td>3.1</td>\n",
       "      <td>0.057591</td>\n",
       "      <td>252.0</td>\n",
       "      <td>0.8</td>\n",
       "    </tr>\n",
       "    <tr>\n",
       "      <th>3</th>\n",
       "      <td>1000201323581541</td>\n",
       "      <td>2160-05-18 13:00:00</td>\n",
       "      <td>53.0</td>\n",
       "      <td>False</td>\n",
       "      <td>7.0</td>\n",
       "      <td>94.0</td>\n",
       "      <td>311.0</td>\n",
       "      <td>1.1</td>\n",
       "      <td>13.272410</td>\n",
       "      <td>50.000001</td>\n",
       "      <td>0.448468</td>\n",
       "      <td>80.0</td>\n",
       "      <td>100.0</td>\n",
       "      <td>2.6</td>\n",
       "      <td>0.057591</td>\n",
       "      <td>252.0</td>\n",
       "      <td>0.8</td>\n",
       "    </tr>\n",
       "    <tr>\n",
       "      <th>4</th>\n",
       "      <td>1000201323581541</td>\n",
       "      <td>2160-05-18 14:00:00</td>\n",
       "      <td>53.0</td>\n",
       "      <td>False</td>\n",
       "      <td>11.0</td>\n",
       "      <td>94.0</td>\n",
       "      <td>332.0</td>\n",
       "      <td>1.1</td>\n",
       "      <td>13.272410</td>\n",
       "      <td>50.000001</td>\n",
       "      <td>0.448468</td>\n",
       "      <td>80.0</td>\n",
       "      <td>100.0</td>\n",
       "      <td>2.8</td>\n",
       "      <td>0.057591</td>\n",
       "      <td>254.0</td>\n",
       "      <td>0.8</td>\n",
       "    </tr>\n",
       "    <tr>\n",
       "      <th>...</th>\n",
       "      <td>...</td>\n",
       "      <td>...</td>\n",
       "      <td>...</td>\n",
       "      <td>...</td>\n",
       "      <td>...</td>\n",
       "      <td>...</td>\n",
       "      <td>...</td>\n",
       "      <td>...</td>\n",
       "      <td>...</td>\n",
       "      <td>...</td>\n",
       "      <td>...</td>\n",
       "      <td>...</td>\n",
       "      <td>...</td>\n",
       "      <td>...</td>\n",
       "      <td>...</td>\n",
       "      <td>...</td>\n",
       "      <td>...</td>\n",
       "    </tr>\n",
       "    <tr>\n",
       "      <th>99995</th>\n",
       "      <td>1655011221178124</td>\n",
       "      <td>2171-12-18 00:00:00</td>\n",
       "      <td>68.0</td>\n",
       "      <td>False</td>\n",
       "      <td>83.0</td>\n",
       "      <td>88.0</td>\n",
       "      <td>135.0</td>\n",
       "      <td>1.1</td>\n",
       "      <td>7.222779</td>\n",
       "      <td>50.893585</td>\n",
       "      <td>0.019991</td>\n",
       "      <td>86.0</td>\n",
       "      <td>35.0</td>\n",
       "      <td>0.9</td>\n",
       "      <td>0.079840</td>\n",
       "      <td>91.0</td>\n",
       "      <td>0.3</td>\n",
       "    </tr>\n",
       "    <tr>\n",
       "      <th>99996</th>\n",
       "      <td>1655011221178124</td>\n",
       "      <td>2171-12-18 01:00:00</td>\n",
       "      <td>68.0</td>\n",
       "      <td>False</td>\n",
       "      <td>87.0</td>\n",
       "      <td>90.0</td>\n",
       "      <td>135.0</td>\n",
       "      <td>1.1</td>\n",
       "      <td>7.222779</td>\n",
       "      <td>50.893585</td>\n",
       "      <td>0.019991</td>\n",
       "      <td>88.0</td>\n",
       "      <td>35.0</td>\n",
       "      <td>0.9</td>\n",
       "      <td>0.079840</td>\n",
       "      <td>91.0</td>\n",
       "      <td>0.3</td>\n",
       "    </tr>\n",
       "    <tr>\n",
       "      <th>99997</th>\n",
       "      <td>1655011221178124</td>\n",
       "      <td>2171-12-18 02:00:00</td>\n",
       "      <td>68.0</td>\n",
       "      <td>False</td>\n",
       "      <td>89.0</td>\n",
       "      <td>91.0</td>\n",
       "      <td>135.0</td>\n",
       "      <td>1.1</td>\n",
       "      <td>7.222779</td>\n",
       "      <td>50.893585</td>\n",
       "      <td>0.019991</td>\n",
       "      <td>87.0</td>\n",
       "      <td>35.0</td>\n",
       "      <td>0.9</td>\n",
       "      <td>0.079840</td>\n",
       "      <td>91.0</td>\n",
       "      <td>0.3</td>\n",
       "    </tr>\n",
       "    <tr>\n",
       "      <th>99998</th>\n",
       "      <td>1655011221178124</td>\n",
       "      <td>2171-12-18 03:00:00</td>\n",
       "      <td>68.0</td>\n",
       "      <td>False</td>\n",
       "      <td>93.0</td>\n",
       "      <td>88.0</td>\n",
       "      <td>135.0</td>\n",
       "      <td>1.1</td>\n",
       "      <td>7.222779</td>\n",
       "      <td>50.893585</td>\n",
       "      <td>0.019991</td>\n",
       "      <td>87.0</td>\n",
       "      <td>35.0</td>\n",
       "      <td>0.9</td>\n",
       "      <td>0.079840</td>\n",
       "      <td>91.0</td>\n",
       "      <td>0.3</td>\n",
       "    </tr>\n",
       "    <tr>\n",
       "      <th>99999</th>\n",
       "      <td>1655011221178124</td>\n",
       "      <td>2171-12-18 04:00:00</td>\n",
       "      <td>68.0</td>\n",
       "      <td>False</td>\n",
       "      <td>96.0</td>\n",
       "      <td>88.0</td>\n",
       "      <td>135.0</td>\n",
       "      <td>1.1</td>\n",
       "      <td>7.222779</td>\n",
       "      <td>50.893585</td>\n",
       "      <td>0.019991</td>\n",
       "      <td>85.0</td>\n",
       "      <td>35.0</td>\n",
       "      <td>0.9</td>\n",
       "      <td>0.079840</td>\n",
       "      <td>91.0</td>\n",
       "      <td>0.3</td>\n",
       "    </tr>\n",
       "  </tbody>\n",
       "</table>\n",
       "<p>307395 rows × 17 columns</p>\n",
       "</div>"
      ],
      "text/plain": [
       "            Unique Stay          time_bucket  anchor_age  mortality  \\\n",
       "0      1000201323581541  2160-05-18 10:00:00        53.0      False   \n",
       "1      1000201323581541  2160-05-18 11:00:00        53.0      False   \n",
       "2      1000201323581541  2160-05-18 12:00:00        53.0      False   \n",
       "3      1000201323581541  2160-05-18 13:00:00        53.0      False   \n",
       "4      1000201323581541  2160-05-18 14:00:00        53.0      False   \n",
       "...                 ...                  ...         ...        ...   \n",
       "99995  1655011221178124  2171-12-18 00:00:00        68.0      False   \n",
       "99996  1655011221178124  2171-12-18 01:00:00        68.0      False   \n",
       "99997  1655011221178124  2171-12-18 02:00:00        68.0      False   \n",
       "99998  1655011221178124  2171-12-18 03:00:00        68.0      False   \n",
       "99999  1655011221178124  2171-12-18 04:00:00        68.0      False   \n",
       "\n",
       "       sequence_num  Arterial Blood Pressure mean  Arterial O2 pressure  \\\n",
       "0               1.0                          94.0                 421.0   \n",
       "1               3.0                          94.0                 384.0   \n",
       "2               4.0                          94.0                 384.0   \n",
       "3               7.0                          94.0                 311.0   \n",
       "4              11.0                          94.0                 332.0   \n",
       "...             ...                           ...                   ...   \n",
       "99995          83.0                          88.0                 135.0   \n",
       "99996          87.0                          90.0                 135.0   \n",
       "99997          89.0                          91.0                 135.0   \n",
       "99998          93.0                          88.0                 135.0   \n",
       "99999          96.0                          88.0                 135.0   \n",
       "\n",
       "       Creatinine (serum)  Dobutamine   Dopamine  Epinephrine  Heart Rate  \\\n",
       "0                     1.1   13.272410  50.000001     0.448468        80.0   \n",
       "1                     1.1   13.272410  50.000001     0.448468        80.0   \n",
       "2                     1.1   13.272410  50.000001     0.448468        80.0   \n",
       "3                     1.1   13.272410  50.000001     0.448468        80.0   \n",
       "4                     1.1   13.272410  50.000001     0.448468        80.0   \n",
       "...                   ...         ...        ...          ...         ...   \n",
       "99995                 1.1    7.222779  50.893585     0.019991        86.0   \n",
       "99996                 1.1    7.222779  50.893585     0.019991        88.0   \n",
       "99997                 1.1    7.222779  50.893585     0.019991        87.0   \n",
       "99998                 1.1    7.222779  50.893585     0.019991        87.0   \n",
       "99999                 1.1    7.222779  50.893585     0.019991        85.0   \n",
       "\n",
       "       Inspired O2 Fraction  Lactic Acid  Norepinephrine  Platelet Count  \\\n",
       "0                     100.0          3.3        0.057591           252.0   \n",
       "1                     100.0          2.8        0.057591           252.0   \n",
       "2                     100.0          3.1        0.057591           252.0   \n",
       "3                     100.0          2.6        0.057591           252.0   \n",
       "4                     100.0          2.8        0.057591           254.0   \n",
       "...                     ...          ...             ...             ...   \n",
       "99995                  35.0          0.9        0.079840            91.0   \n",
       "99996                  35.0          0.9        0.079840            91.0   \n",
       "99997                  35.0          0.9        0.079840            91.0   \n",
       "99998                  35.0          0.9        0.079840            91.0   \n",
       "99999                  35.0          0.9        0.079840            91.0   \n",
       "\n",
       "       Total Bilirubin  \n",
       "0                  0.8  \n",
       "1                  0.8  \n",
       "2                  0.8  \n",
       "3                  0.8  \n",
       "4                  0.8  \n",
       "...                ...  \n",
       "99995              0.3  \n",
       "99996              0.3  \n",
       "99997              0.3  \n",
       "99998              0.3  \n",
       "99999              0.3  \n",
       "\n",
       "[307395 rows x 17 columns]"
      ]
     },
     "execution_count": 12,
     "metadata": {},
     "output_type": "execute_result"
    }
   ],
   "source": [
    "data"
   ]
  },
  {
   "cell_type": "code",
   "execution_count": 13,
   "id": "0f7e6cbc-6057-4963-a3ae-c4c9130290f2",
   "metadata": {
    "tags": []
   },
   "outputs": [],
   "source": [
    "label_encoder = LabelEncoder()\n",
    "# Encode target variable `Died` (binary classification: 0 = Alive, 1 = Died)\n",
    "data['mortality'] = label_encoder.fit_transform(data['mortality'])\n",
    "\n",
    "# Sort by Unique Stay and sequence number to get events in correct order\n",
    "data.sort_values(by=['Unique Stay', 'sequence_num'], inplace=True)"
   ]
  },
  {
   "cell_type": "code",
   "execution_count": 14,
   "id": "928929aa-01af-4194-9c4c-b8a093d2ee39",
   "metadata": {
    "tags": []
   },
   "outputs": [],
   "source": [
    "# Create sequences of features for each Unique Stay\n",
    "sequence_data = []\n",
    "sequence_labels = []\n",
    "\n",
    "unique_stays = data['Unique Stay'].unique()"
   ]
  },
  {
   "cell_type": "code",
   "execution_count": 15,
   "id": "6fe00944-9db8-414f-a381-6843aeb0f8c5",
   "metadata": {
    "tags": []
   },
   "outputs": [],
   "source": [
    "data = data.drop(columns=['time_bucket'])"
   ]
  },
  {
   "cell_type": "code",
   "execution_count": 16,
   "id": "554f7d59-3414-4801-983f-e90cc045a2fa",
   "metadata": {
    "tags": []
   },
   "outputs": [],
   "source": [
    "for stay in unique_stays:\n",
    "    stay_data = data[data['Unique Stay'] == stay]\n",
    "    stay_features = stay_data[['anchor_age', 'mortality','Arterial Blood Pressure mean','Arterial O2 pressure','Creatinine (serum)',\n",
    "                             'Dobutamine','Dopamine','Epinephrine','Heart Rate','Inspired O2 Fraction','Lactic Acid','Norepinephrine','Platelet Count',\n",
    "                              'Total Bilirubin']].values\n",
    "    stay_label = stay_data['mortality'].values[-1]  # Use the last event to define the label\n",
    "    \n",
    "    # Add the sequence and its corresponding label\n",
    "    sequence_data.append(stay_features)\n",
    "    sequence_labels.append(stay_label)"
   ]
  },
  {
   "cell_type": "code",
   "execution_count": 17,
   "id": "2f9c544b-f541-46c4-b31e-00b39f4e9657",
   "metadata": {
    "tags": []
   },
   "outputs": [],
   "source": [
    "#sequence_data"
   ]
  },
  {
   "cell_type": "code",
   "execution_count": 18,
   "id": "60dcaa34-24ad-4fd1-8240-ec72a362459c",
   "metadata": {
    "tags": []
   },
   "outputs": [],
   "source": [
    "import keras"
   ]
  },
  {
   "cell_type": "code",
   "execution_count": 19,
   "id": "45797ef8-6887-410f-b2dc-4281b0ff9787",
   "metadata": {
    "tags": []
   },
   "outputs": [],
   "source": [
    "#from tensorflow.keras.utils import pad_sequences\n",
    "sequence_data = keras.utils.pad_sequences(sequence_data, padding='post', dtype='float32', maxlen=50)  # Adjust maxlen as needed"
   ]
  },
  {
   "cell_type": "code",
   "execution_count": 20,
   "id": "45645e0f-d2c4-46db-bf96-56f15b035c07",
   "metadata": {
    "tags": []
   },
   "outputs": [],
   "source": [
    "# Convert labels to numpy array\n",
    "sequence_labels = np.array(sequence_labels)"
   ]
  },
  {
   "cell_type": "code",
   "execution_count": 21,
   "id": "e97029aa-6b1a-451f-bf11-a702156a0982",
   "metadata": {
    "tags": []
   },
   "outputs": [],
   "source": [
    "X_train, X_test, y_train, y_test = train_test_split(sequence_data, sequence_labels, test_size=0.2, random_state=42)"
   ]
  },
  {
   "cell_type": "code",
   "execution_count": 22,
   "id": "2dda4f8a-d56c-42e4-b13a-aa7e6a887d03",
   "metadata": {
    "tags": []
   },
   "outputs": [],
   "source": [
    "from keras import layers, Sequential"
   ]
  },
  {
   "cell_type": "code",
   "execution_count": 32,
   "id": "53828560-59cf-4c3a-af4b-8bcae57fe3e6",
   "metadata": {
    "tags": []
   },
   "outputs": [
    {
     "name": "stdout",
     "output_type": "stream",
     "text": [
      "Epoch 1/10\n",
      "\u001b[1m109/109\u001b[0m \u001b[32m━━━━━━━━━━━━━━━━━━━━\u001b[0m\u001b[37m\u001b[0m \u001b[1m5s\u001b[0m 19ms/step - AUC: 0.4862 - accuracy: 0.3499 - loss: 1.0026\n",
      "Epoch 2/10\n",
      "\u001b[1m109/109\u001b[0m \u001b[32m━━━━━━━━━━━━━━━━━━━━\u001b[0m\u001b[37m\u001b[0m \u001b[1m0s\u001b[0m 4ms/step - AUC: 0.5881 - accuracy: 0.9862 - loss: 0.1581\n",
      "Epoch 3/10\n",
      "\u001b[1m109/109\u001b[0m \u001b[32m━━━━━━━━━━━━━━━━━━━━\u001b[0m\u001b[37m\u001b[0m \u001b[1m0s\u001b[0m 4ms/step - AUC: 0.5616 - accuracy: 0.9869 - loss: 0.0922\n",
      "Epoch 4/10\n",
      "\u001b[1m109/109\u001b[0m \u001b[32m━━━━━━━━━━━━━━━━━━━━\u001b[0m\u001b[37m\u001b[0m \u001b[1m0s\u001b[0m 4ms/step - AUC: 0.6515 - accuracy: 0.9890 - loss: 0.0668\n",
      "Epoch 5/10\n",
      "\u001b[1m109/109\u001b[0m \u001b[32m━━━━━━━━━━━━━━━━━━━━\u001b[0m\u001b[37m\u001b[0m \u001b[1m0s\u001b[0m 4ms/step - AUC: 0.6593 - accuracy: 0.9883 - loss: 0.0651\n",
      "Epoch 6/10\n",
      "\u001b[1m109/109\u001b[0m \u001b[32m━━━━━━━━━━━━━━━━━━━━\u001b[0m\u001b[37m\u001b[0m \u001b[1m0s\u001b[0m 4ms/step - AUC: 0.5723 - accuracy: 0.9862 - loss: 0.0751\n",
      "Epoch 7/10\n",
      "\u001b[1m109/109\u001b[0m \u001b[32m━━━━━━━━━━━━━━━━━━━━\u001b[0m\u001b[37m\u001b[0m \u001b[1m0s\u001b[0m 4ms/step - AUC: 0.6680 - accuracy: 0.9877 - loss: 0.0651\n",
      "Epoch 8/10\n",
      "\u001b[1m109/109\u001b[0m \u001b[32m━━━━━━━━━━━━━━━━━━━━\u001b[0m\u001b[37m\u001b[0m \u001b[1m0s\u001b[0m 4ms/step - AUC: 0.5791 - accuracy: 0.9896 - loss: 0.0580\n",
      "Epoch 9/10\n",
      "\u001b[1m109/109\u001b[0m \u001b[32m━━━━━━━━━━━━━━━━━━━━\u001b[0m\u001b[37m\u001b[0m \u001b[1m0s\u001b[0m 4ms/step - AUC: 0.5309 - accuracy: 0.9907 - loss: 0.0548\n",
      "Epoch 10/10\n",
      "\u001b[1m109/109\u001b[0m \u001b[32m━━━━━━━━━━━━━━━━━━━━\u001b[0m\u001b[37m\u001b[0m \u001b[1m0s\u001b[0m 4ms/step - AUC: 0.5980 - accuracy: 0.9885 - loss: 0.0634\n"
     ]
    }
   ],
   "source": [
    "#run model with chosen hyperparameters\n",
    "model = keras.models.Sequential([\n",
    "            keras.layers.InputLayer(input_shape=(X_train.shape[1], X_train.shape[2])), \n",
    "            keras.layers.Masking(mask_value=0.0),  # for variable-length sequences\n",
    "            keras.layers.SimpleRNN(32,dropout=0.2),  # SimpleRNN with 32 units\n",
    "            keras.layers.Dense(1, activation='sigmoid') \n",
    "])\n",
    "model.compile(optimizer=keras.optimizers.Adam(learning_rate=0.001), loss='binary_crossentropy', metrics=['accuracy','AUC'])\n",
    "history = model.fit(X_train,y_train, epochs=10)"
   ]
  },
  {
   "cell_type": "code",
   "execution_count": 34,
   "id": "19966c77-e7e6-4281-8ad7-531e232ecefc",
   "metadata": {
    "tags": []
   },
   "outputs": [
    {
     "name": "stdout",
     "output_type": "stream",
     "text": [
      "\u001b[1m28/28\u001b[0m \u001b[32m━━━━━━━━━━━━━━━━━━━━\u001b[0m\u001b[37m\u001b[0m \u001b[1m0s\u001b[0m 3ms/step - AUC: 0.5527 - accuracy: 0.9865 - loss: 0.0691  \n",
      "loss 0.08263782411813736\n",
      "accuracy 0.98392653465271\n",
      "auc 0.6034339070320129\n"
     ]
    }
   ],
   "source": [
    "loss,accuracy,auc = model.evaluate(X_test,y_test)\n",
    "print(\"loss\", loss)\n",
    "print(\"accuracy\", accuracy)\n",
    "print(\"auc\", auc)"
   ]
  },
  {
   "cell_type": "code",
   "execution_count": 35,
   "id": "a6d60d9a-47a8-489b-8d3f-0ceb6cf55208",
   "metadata": {
    "tags": []
   },
   "outputs": [],
   "source": [
    "#run model and search for best parameters\n",
    "class KerasModelWrapper(BaseEstimator):\n",
    "    def __init__(self, learning_rate=0.001, dropout=0.2, epochs=10, batch_size=32):\n",
    "        self.learning_rate = learning_rate\n",
    "        self.dropout = dropout\n",
    "        self.epochs = epochs\n",
    "        self.batch_size = batch_size\n",
    "        self.model = None\n",
    "    def create_model(self):\n",
    "        model = keras.models.Sequential([\n",
    "            keras.layers.InputLayer(input_shape=(X_train.shape[1], X_train.shape[2])), \n",
    "            keras.layers.Masking(mask_value=0.0),  # for variable-length sequences\n",
    "            keras.layers.SimpleRNN(32,dropout=self.dropout),  # SimpleRNN with 32 units\n",
    "            keras.layers.Dense(1, activation='sigmoid') \n",
    "])\n",
    "        model.compile(optimizer=keras.optimizers.Adam(learning_rate=self.learning_rate), loss='binary_crossentropy', metrics=['accuracy','AUC'])\n",
    "        return model\n",
    "    def fit(self, X, y):\n",
    "        self.model = self.create_model()\n",
    "        self.model.fit(X, y, epochs=self.epochs, batch_size=self.batch_size, verbose=0)\n",
    "        return self\n",
    "    def predict(self, X):\n",
    "        return self.model.predict(X)\n",
    "    def score(self, X, y):\n",
    "        return self.model.evaluate(X, y, verbose=0)[1]"
   ]
  },
  {
   "cell_type": "code",
   "execution_count": 36,
   "id": "7864169b-0553-4957-aea5-bc5554ee2113",
   "metadata": {
    "tags": []
   },
   "outputs": [],
   "source": [
    "model = KerasModelWrapper()"
   ]
  },
  {
   "cell_type": "code",
   "execution_count": 37,
   "id": "6740e44c-90f2-43ba-9ea0-62f28af557f4",
   "metadata": {
    "tags": []
   },
   "outputs": [],
   "source": [
    "param_grid = {\n",
    "    'learning_rate': [0.001, 0.01, 0.1],\n",
    "    'dropout': [0.2, 0.3, 0.5],\n",
    "    'batch_size': [16, 32, 64],\n",
    "    'epochs': [10, 20, 50]\n",
    "}"
   ]
  },
  {
   "cell_type": "code",
   "execution_count": 38,
   "id": "320f65e1-2435-4b69-965b-6ed94d553c46",
   "metadata": {
    "tags": []
   },
   "outputs": [],
   "source": [
    "random_search = RandomizedSearchCV(estimator=model,param_distributions=param_grid, n_iter=10, cv=3, verbose=2, n_jobs=-1, random_state=42)"
   ]
  },
  {
   "cell_type": "code",
   "execution_count": 39,
   "id": "8132a05e-e0d9-45b9-a92b-f8b5e0294539",
   "metadata": {
    "tags": []
   },
   "outputs": [
    {
     "name": "stdout",
     "output_type": "stream",
     "text": [
      "Fitting 3 folds for each of 10 candidates, totalling 30 fits\n"
     ]
    },
    {
     "name": "stderr",
     "output_type": "stream",
     "text": [
      "2024-11-10 18:16:29.451061: E external/local_xla/xla/stream_executor/cuda/cuda_fft.cc:485] Unable to register cuFFT factory: Attempting to register factory for plugin cuFFT when one has already been registered\n",
      "2024-11-10 18:16:29.454298: E external/local_xla/xla/stream_executor/cuda/cuda_fft.cc:485] Unable to register cuFFT factory: Attempting to register factory for plugin cuFFT when one has already been registered\n",
      "2024-11-10 18:16:29.469305: E external/local_xla/xla/stream_executor/cuda/cuda_dnn.cc:8454] Unable to register cuDNN factory: Attempting to register factory for plugin cuDNN when one has already been registered\n",
      "2024-11-10 18:16:29.472602: E external/local_xla/xla/stream_executor/cuda/cuda_dnn.cc:8454] Unable to register cuDNN factory: Attempting to register factory for plugin cuDNN when one has already been registered\n",
      "2024-11-10 18:16:29.474865: E external/local_xla/xla/stream_executor/cuda/cuda_blas.cc:1452] Unable to register cuBLAS factory: Attempting to register factory for plugin cuBLAS when one has already been registered\n",
      "2024-11-10 18:16:29.478169: E external/local_xla/xla/stream_executor/cuda/cuda_blas.cc:1452] Unable to register cuBLAS factory: Attempting to register factory for plugin cuBLAS when one has already been registered\n",
      "/home/rmd9ev/.local/lib/python3.10/site-packages/keras/src/layers/core/input_layer.py:26: UserWarning: Argument `input_shape` is deprecated. Use `shape` instead.\n",
      "  warnings.warn(\n",
      "/home/rmd9ev/.local/lib/python3.10/site-packages/keras/src/layers/core/input_layer.py:26: UserWarning: Argument `input_shape` is deprecated. Use `shape` instead.\n",
      "  warnings.warn(\n",
      "WARNING: All log messages before absl::InitializeLog() is called are written to STDERR\n",
      "I0000 00:00:1731280605.578647  272155 service.cc:146] XLA service 0x5634cbcfe3e0 initialized for platform CUDA (this does not guarantee that XLA will be used). Devices:\n",
      "I0000 00:00:1731280605.578680  272155 service.cc:154]   StreamExecutor device (0): NVIDIA RTX A6000, Compute Capability 8.6\n",
      "WARNING: All log messages before absl::InitializeLog() is called are written to STDERR\n",
      "I0000 00:00:1731280605.702617  272154 service.cc:146] XLA service 0x7fc0040d4af0 initialized for platform CUDA (this does not guarantee that XLA will be used). Devices:\n",
      "I0000 00:00:1731280605.702649  272154 service.cc:154]   StreamExecutor device (0): NVIDIA RTX A6000, Compute Capability 8.6\n",
      "I0000 00:00:1731280606.988627  272155 device_compiler.h:188] Compiled cluster using XLA!  This line is logged at most once for the lifetime of the process.\n",
      "I0000 00:00:1731280607.238241  272154 device_compiler.h:188] Compiled cluster using XLA!  This line is logged at most once for the lifetime of the process.\n"
     ]
    },
    {
     "name": "stdout",
     "output_type": "stream",
     "text": [
      "[CV] END batch_size=32, dropout=0.2, epochs=20, learning_rate=0.001; total time=  27.4s\n",
      "[CV] END batch_size=32, dropout=0.2, epochs=20, learning_rate=0.001; total time=  22.6s\n",
      "[CV] END batch_size=16, dropout=0.2, epochs=10, learning_rate=0.001; total time=  20.1s\n",
      "[CV] END batch_size=16, dropout=0.5, epochs=20, learning_rate=0.01; total time=  38.7s\n",
      "[CV] END batch_size=32, dropout=0.2, epochs=20, learning_rate=0.01; total time=  25.0s\n",
      "[CV] END batch_size=32, dropout=0.2, epochs=20, learning_rate=0.001; total time=  28.0s\n",
      "[CV] END batch_size=16, dropout=0.2, epochs=10, learning_rate=0.001; total time=  18.8s\n",
      "[CV] END batch_size=16, dropout=0.2, epochs=10, learning_rate=0.001; total time=  20.9s\n",
      "[CV] END batch_size=16, dropout=0.5, epochs=20, learning_rate=0.01; total time=  34.5s\n",
      "[CV] END batch_size=16, dropout=0.5, epochs=20, learning_rate=0.01; total time=  33.6s\n"
     ]
    },
    {
     "name": "stderr",
     "output_type": "stream",
     "text": [
      "2024-11-10 18:18:59.174582: E external/local_xla/xla/stream_executor/cuda/cuda_fft.cc:485] Unable to register cuFFT factory: Attempting to register factory for plugin cuFFT when one has already been registered\n",
      "2024-11-10 18:18:59.194117: E external/local_xla/xla/stream_executor/cuda/cuda_dnn.cc:8454] Unable to register cuDNN factory: Attempting to register factory for plugin cuDNN when one has already been registered\n",
      "2024-11-10 18:18:59.200123: E external/local_xla/xla/stream_executor/cuda/cuda_blas.cc:1452] Unable to register cuBLAS factory: Attempting to register factory for plugin cuBLAS when one has already been registered\n",
      "2024-11-10 18:19:00.189152: E external/local_xla/xla/stream_executor/cuda/cuda_fft.cc:485] Unable to register cuFFT factory: Attempting to register factory for plugin cuFFT when one has already been registered\n",
      "2024-11-10 18:19:00.207102: E external/local_xla/xla/stream_executor/cuda/cuda_dnn.cc:8454] Unable to register cuDNN factory: Attempting to register factory for plugin cuDNN when one has already been registered\n",
      "2024-11-10 18:19:00.212774: E external/local_xla/xla/stream_executor/cuda/cuda_blas.cc:1452] Unable to register cuBLAS factory: Attempting to register factory for plugin cuBLAS when one has already been registered\n",
      "/home/rmd9ev/.local/lib/python3.10/site-packages/keras/src/layers/core/input_layer.py:26: UserWarning: Argument `input_shape` is deprecated. Use `shape` instead.\n",
      "  warnings.warn(\n",
      "/home/rmd9ev/.local/lib/python3.10/site-packages/keras/src/layers/core/input_layer.py:26: UserWarning: Argument `input_shape` is deprecated. Use `shape` instead.\n",
      "  warnings.warn(\n",
      "WARNING: All log messages before absl::InitializeLog() is called are written to STDERR\n",
      "I0000 00:00:1731280748.566485  273804 service.cc:146] XLA service 0x56211f5e4020 initialized for platform CUDA (this does not guarantee that XLA will be used). Devices:\n",
      "I0000 00:00:1731280748.566522  273804 service.cc:154]   StreamExecutor device (0): NVIDIA RTX A6000, Compute Capability 8.6\n",
      "WARNING: All log messages before absl::InitializeLog() is called are written to STDERR\n",
      "I0000 00:00:1731280748.697352  273800 service.cc:146] XLA service 0x560d822c7d40 initialized for platform CUDA (this does not guarantee that XLA will be used). Devices:\n",
      "I0000 00:00:1731280748.697386  273800 service.cc:154]   StreamExecutor device (0): NVIDIA RTX A6000, Compute Capability 8.6\n",
      "I0000 00:00:1731280749.969818  273804 device_compiler.h:188] Compiled cluster using XLA!  This line is logged at most once for the lifetime of the process.\n",
      "I0000 00:00:1731280750.150778  273800 device_compiler.h:188] Compiled cluster using XLA!  This line is logged at most once for the lifetime of the process.\n"
     ]
    },
    {
     "name": "stdout",
     "output_type": "stream",
     "text": [
      "[CV] END batch_size=32, dropout=0.2, epochs=20, learning_rate=0.01; total time=  28.1s\n",
      "[CV] END batch_size=16, dropout=0.5, epochs=10, learning_rate=0.001; total time=  20.8s\n",
      "[CV] END batch_size=32, dropout=0.2, epochs=10, learning_rate=0.01; total time=  15.2s\n",
      "[CV] END batch_size=32, dropout=0.2, epochs=10, learning_rate=0.01; total time=   9.1s\n",
      "[CV] END batch_size=16, dropout=0.3, epochs=10, learning_rate=0.01; total time=  15.4s\n"
     ]
    },
    {
     "name": "stderr",
     "output_type": "stream",
     "text": [
      "2024-11-10 18:20:36.614233: E external/local_xla/xla/stream_executor/cuda/cuda_fft.cc:485] Unable to register cuFFT factory: Attempting to register factory for plugin cuFFT when one has already been registered\n",
      "2024-11-10 18:20:36.632989: E external/local_xla/xla/stream_executor/cuda/cuda_dnn.cc:8454] Unable to register cuDNN factory: Attempting to register factory for plugin cuDNN when one has already been registered\n",
      "2024-11-10 18:20:36.638758: E external/local_xla/xla/stream_executor/cuda/cuda_blas.cc:1452] Unable to register cuBLAS factory: Attempting to register factory for plugin cuBLAS when one has already been registered\n"
     ]
    },
    {
     "name": "stdout",
     "output_type": "stream",
     "text": [
      "[CV] END batch_size=32, dropout=0.2, epochs=20, learning_rate=0.01; total time=  26.4s\n",
      "[CV] END batch_size=16, dropout=0.5, epochs=10, learning_rate=0.001; total time=  19.7s\n",
      "[CV] END batch_size=16, dropout=0.5, epochs=10, learning_rate=0.001; total time=  21.1s\n",
      "[CV] END batch_size=32, dropout=0.2, epochs=10, learning_rate=0.01; total time=   9.7s\n",
      "[CV] END batch_size=16, dropout=0.3, epochs=10, learning_rate=0.01; total time=  16.5s\n"
     ]
    },
    {
     "name": "stderr",
     "output_type": "stream",
     "text": [
      "2024-11-10 18:20:40.987011: E external/local_xla/xla/stream_executor/cuda/cuda_fft.cc:485] Unable to register cuFFT factory: Attempting to register factory for plugin cuFFT when one has already been registered\n",
      "2024-11-10 18:20:41.006893: E external/local_xla/xla/stream_executor/cuda/cuda_dnn.cc:8454] Unable to register cuDNN factory: Attempting to register factory for plugin cuDNN when one has already been registered\n",
      "2024-11-10 18:20:41.012722: E external/local_xla/xla/stream_executor/cuda/cuda_blas.cc:1452] Unable to register cuBLAS factory: Attempting to register factory for plugin cuBLAS when one has already been registered\n",
      "/home/rmd9ev/.local/lib/python3.10/site-packages/keras/src/layers/core/input_layer.py:26: UserWarning: Argument `input_shape` is deprecated. Use `shape` instead.\n",
      "  warnings.warn(\n",
      "WARNING: All log messages before absl::InitializeLog() is called are written to STDERR\n",
      "I0000 00:00:1731280843.751277  275387 service.cc:146] XLA service 0x55beac4fe140 initialized for platform CUDA (this does not guarantee that XLA will be used). Devices:\n",
      "I0000 00:00:1731280843.751310  275387 service.cc:154]   StreamExecutor device (0): NVIDIA RTX A6000, Compute Capability 8.6\n",
      "/home/rmd9ev/.local/lib/python3.10/site-packages/keras/src/layers/core/input_layer.py:26: UserWarning: Argument `input_shape` is deprecated. Use `shape` instead.\n",
      "  warnings.warn(\n",
      "I0000 00:00:1731280845.304690  275387 device_compiler.h:188] Compiled cluster using XLA!  This line is logged at most once for the lifetime of the process.\n",
      "WARNING: All log messages before absl::InitializeLog() is called are written to STDERR\n",
      "I0000 00:00:1731280847.722167  275449 service.cc:146] XLA service 0x7f8ad000b200 initialized for platform CUDA (this does not guarantee that XLA will be used). Devices:\n",
      "I0000 00:00:1731280847.722205  275449 service.cc:154]   StreamExecutor device (0): NVIDIA RTX A6000, Compute Capability 8.6\n",
      "I0000 00:00:1731280849.188354  275449 device_compiler.h:188] Compiled cluster using XLA!  This line is logged at most once for the lifetime of the process.\n"
     ]
    },
    {
     "name": "stdout",
     "output_type": "stream",
     "text": [
      "[CV] END batch_size=16, dropout=0.3, epochs=10, learning_rate=0.01; total time=  18.4s\n",
      "[CV] END batch_size=64, dropout=0.3, epochs=50, learning_rate=0.01; total time=  25.4s\n",
      "[CV] END batch_size=16, dropout=0.2, epochs=20, learning_rate=0.01; total time=  36.1s\n",
      "[CV] END batch_size=16, dropout=0.2, epochs=20, learning_rate=0.01; total time=  39.7s\n",
      "[CV] END batch_size=16, dropout=0.3, epochs=20, learning_rate=0.001; total time=  35.9s\n",
      "[CV] END batch_size=64, dropout=0.3, epochs=50, learning_rate=0.01; total time=  26.7s\n",
      "[CV] END batch_size=64, dropout=0.3, epochs=50, learning_rate=0.01; total time=  27.0s\n",
      "[CV] END batch_size=16, dropout=0.2, epochs=20, learning_rate=0.01; total time=  37.3s\n",
      "[CV] END batch_size=16, dropout=0.3, epochs=20, learning_rate=0.001; total time=  37.7s\n",
      "[CV] END batch_size=16, dropout=0.3, epochs=20, learning_rate=0.001; total time=  29.9s\n"
     ]
    }
   ],
   "source": [
    "random_search_result = random_search.fit(X_train, y_train)"
   ]
  },
  {
   "cell_type": "code",
   "execution_count": 28,
   "id": "9e7c3636-b5c2-49d2-98a5-cd3a94d86c9e",
   "metadata": {
    "tags": []
   },
   "outputs": [
    {
     "name": "stdout",
     "output_type": "stream",
     "text": [
      "Best Hyperparameters: {'learning_rate': 0.001, 'epochs': 20, 'dropout': 0.2, 'batch_size': 32}\n",
      "Best Accuracy: nan\n"
     ]
    }
   ],
   "source": [
    "print(\"Best Hyperparameters:\", random_search_result.best_params_)\n",
    "print(\"Best Accuracy:\", random_search_result.best_score_)"
   ]
  },
  {
   "cell_type": "code",
   "execution_count": 29,
   "id": "2e81e358-f972-4287-9800-09e35d5a49ec",
   "metadata": {},
   "outputs": [
    {
     "name": "stdout",
     "output_type": "stream",
     "text": [
      "Test Accuracy: 0.9839\n"
     ]
    }
   ],
   "source": [
    "best_model = random_search_result.best_estimator_\n",
    "test_acc = best_model.score(X_test, y_test)\n",
    "print(f'Test Accuracy: {test_acc:.4f}')"
   ]
  },
  {
   "cell_type": "code",
   "execution_count": 27,
   "id": "0edd0e89-fabf-4f21-bae9-8d9cb82b42f2",
   "metadata": {},
   "outputs": [],
   "source": [
    "best_model = random_search_result.best_estimator_"
   ]
  },
  {
   "cell_type": "code",
   "execution_count": null,
   "id": "7036d750-339a-42ef-a342-46364697f15d",
   "metadata": {},
   "outputs": [],
   "source": []
  },
  {
   "cell_type": "code",
   "execution_count": null,
   "id": "c8b19b9a-1172-42e6-8129-3f53260b0a08",
   "metadata": {},
   "outputs": [],
   "source": []
  },
  {
   "cell_type": "code",
   "execution_count": null,
   "id": "73ca205e-3e7f-4001-8ff4-962eaa06a221",
   "metadata": {},
   "outputs": [],
   "source": []
  },
  {
   "cell_type": "code",
   "execution_count": null,
   "id": "9c8cfae8-b6b2-4ea7-a2b1-63a533b9857b",
   "metadata": {},
   "outputs": [],
   "source": []
  },
  {
   "cell_type": "code",
   "execution_count": 28,
   "id": "d9e2ed01-34f2-4910-8937-2ca681a87a54",
   "metadata": {},
   "outputs": [],
   "source": [
    "model_save_path = 'RNN_best_model.keras'\n",
    "best_model.model.save(model_save_path)"
   ]
  },
  {
   "cell_type": "code",
   "execution_count": 29,
   "id": "a42dc286-2cbb-4662-a833-54fefe7942c5",
   "metadata": {},
   "outputs": [
    {
     "name": "stdout",
     "output_type": "stream",
     "text": [
      "Best model saved at: RNN_best_model.keras\n"
     ]
    }
   ],
   "source": [
    "print(f\"Best model saved at: {model_save_path}\")"
   ]
  },
  {
   "cell_type": "code",
   "execution_count": 30,
   "id": "ab63b1b6-e227-4f89-98fc-b62f39f7dcf4",
   "metadata": {},
   "outputs": [
    {
     "name": "stdout",
     "output_type": "stream",
     "text": [
      "Test Accuracy: 0.9839\n"
     ]
    }
   ],
   "source": [
    "test_acc = best_model.score(X_test, y_test)\n",
    "print(f'Test Accuracy: {test_acc:.4f}')"
   ]
  },
  {
   "cell_type": "code",
   "execution_count": 35,
   "id": "df8814c5-e25f-4a97-8f56-85448eb431ad",
   "metadata": {},
   "outputs": [],
   "source": [
    "loaded_model = tf.keras.models.load_model('RNN_best_model.keras')\n",
    "loaded_test_loss, loaded_test_acc = loaded_model.evaluate(X_test, y_test, verbose=0)"
   ]
  },
  {
   "cell_type": "code",
   "execution_count": 36,
   "id": "70be93a2-4804-4622-a978-e662c70c6b8b",
   "metadata": {},
   "outputs": [
    {
     "name": "stdout",
     "output_type": "stream",
     "text": [
      "Loaded Model Test Accuracy: 0.9839\n",
      "[CV] END batch_size=16, dropout=0.2, epochs=20, learning_rate=0.01; total time=  39.6s\n",
      "[CV] END batch_size=16, dropout=0.2, epochs=20, learning_rate=0.01; total time=  41.8s\n",
      "[CV] END batch_size=16, dropout=0.3, epochs=20, learning_rate=0.001; total time=  44.5s\n",
      "[CV] END batch_size=64, dropout=0.3, epochs=50, learning_rate=0.01; total time=  25.8s\n",
      "[CV] END batch_size=16, dropout=0.2, epochs=20, learning_rate=0.01; total time=  39.5s\n",
      "[CV] END batch_size=16, dropout=0.3, epochs=20, learning_rate=0.001; total time=  38.0s\n",
      "[CV] END batch_size=16, dropout=0.3, epochs=20, learning_rate=0.001; total time=  33.2s\n"
     ]
    }
   ],
   "source": [
    "print(f\"Loaded Model Test Accuracy: {loaded_test_acc:.4f}\")"
   ]
  },
  {
   "cell_type": "code",
   "execution_count": null,
   "id": "12c5be19-1ce5-437e-a473-71ad3ede2ce0",
   "metadata": {},
   "outputs": [],
   "source": []
  }
 ],
 "metadata": {
  "kernelspec": {
   "display_name": "Tensorflow 2.13.0",
   "language": "python",
   "name": "tensorflow-2.13.0"
  },
  "language_info": {
   "codemirror_mode": {
    "name": "ipython",
    "version": 3
   },
   "file_extension": ".py",
   "mimetype": "text/x-python",
   "name": "python",
   "nbconvert_exporter": "python",
   "pygments_lexer": "ipython3",
   "version": "3.10.12"
  }
 },
 "nbformat": 4,
 "nbformat_minor": 5
}
