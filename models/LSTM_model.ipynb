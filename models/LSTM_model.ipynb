{
 "cells": [
  {
   "cell_type": "markdown",
   "id": "8f1c3965-c412-45b8-9a02-6111c313bffb",
   "metadata": {},
   "source": [
    "# Predicting Mortality Risk of ICU Patients Post-CABG\n",
    "\n",
    "<span style=\"color:red;\"><b>\n",
    "MODEL BUILDING NOTEBOOK\n",
    "</span></b>"
   ]
  },
  {
   "cell_type": "markdown",
   "id": "4725f767-3ea1-46ee-985a-353c4ccc2ec4",
   "metadata": {},
   "source": [
    "## Setting up environment and loading data"
   ]
  },
  {
   "cell_type": "code",
   "execution_count": 1,
   "id": "cd5e5f9b-abc5-4276-9a97-1de740ef5882",
   "metadata": {
    "scrolled": true
   },
   "outputs": [],
   "source": [
    "import deepecho\n",
    "from sdv.sequential import PARSynthesizer\n",
    "from sdv.metadata import Metadata"
   ]
  },
  {
   "cell_type": "code",
   "execution_count": 37,
   "id": "c53d2175-f3da-443d-803b-eef7f8f17a3b",
   "metadata": {},
   "outputs": [],
   "source": [
    "import os\n",
    "import pandas as pd\n",
    "import numpy as np\n",
    "import tensorflow as tf\n",
    "import keras\n",
    "from sklearn.base import BaseEstimator, ClassifierMixin\n",
    "from sklearn.model_selection import train_test_split\n",
    "from sklearn.preprocessing import LabelEncoder, StandardScaler\n",
    "from sklearn.model_selection import RandomizedSearchCV\n",
    "from tensorflow.keras import layers\n",
    "from tensorflow.keras.models import Sequential\n",
    "from tensorflow.keras.layers import Dense, LSTM, Masking\n",
    "from tensorflow.keras.optimizers import Adam\n",
    "from tensorflow.keras.metrics import Precision, Recall, AUC\n",
    "import keras_tuner as kt\n",
    "from keras_tuner import HyperParameters, RandomSearch, Objective"
   ]
  },
  {
   "cell_type": "code",
   "execution_count": 3,
   "id": "39ca9449-9b2a-4121-a56a-6b0f2fb4fb77",
   "metadata": {},
   "outputs": [
    {
     "name": "stdout",
     "output_type": "stream",
     "text": [
      "[]\n",
      "2.17.0\n"
     ]
    },
    {
     "name": "stderr",
     "output_type": "stream",
     "text": [
      "2024-11-19 18:47:45.713096: E external/local_xla/xla/stream_executor/cuda/cuda_driver.cc:266] failed call to cuInit: CUDA_ERROR_NO_DEVICE: no CUDA-capable device is detected\n"
     ]
    }
   ],
   "source": [
    "# Set working directory\n",
    "os.chdir('/sfs/gpfs/tardis/home/krb3ym/Documents/MSDS/DS6050/final_project/Predicting-Mortality-Risk-of-ICU-Patients-Post-Coronary-Artery-Bypass-Graft-Surgery/')\n",
    "\n",
    "# Verifying GPU availability\n",
    "print(tf.config.list_physical_devices('GPU'))\n",
    "\n",
    "# Verifying tensorflow version\n",
    "print(tf.__version__)"
   ]
  },
  {
   "cell_type": "code",
   "execution_count": 4,
   "id": "a545b051-7633-42a0-bee7-8cbecb56187a",
   "metadata": {},
   "outputs": [],
   "source": [
    "# Load data\n",
    "complete_final_df = pd.read_csv('./data/final_data/complete_data.csv')\n",
    "imputed_final_df = pd.read_csv('./data/final_data/imputed_data.csv')"
   ]
  },
  {
   "cell_type": "markdown",
   "id": "3e184b84-5ebf-42f8-b580-aac05f39d297",
   "metadata": {
    "jp-MarkdownHeadingCollapsed": true
   },
   "source": [
    "## Data Augmentation"
   ]
  },
  {
   "cell_type": "code",
   "execution_count": 5,
   "id": "bbcc01d5-597a-4f83-abcf-eab7d4dd8cc1",
   "metadata": {},
   "outputs": [
    {
     "name": "stderr",
     "output_type": "stream",
     "text": [
      "/home/krb3ym/.local/lib/python3.10/site-packages/sdv/single_table/base.py:105: UserWarning: We strongly recommend saving the metadata using 'save_to_json' for replicability in future SDV versions.\n",
      "  warnings.warn(\n"
     ]
    }
   ],
   "source": [
    "df_complete = complete_final_df.drop('seq_num', axis = 1).copy()\n",
    "\n",
    "# Creating metadata\n",
    "\n",
    "# Auto-detecting metdata\n",
    "metadata = Metadata.detect_from_dataframes(data = {'df': df_complete})\n",
    "metadata.set_sequence_index(column_name='time_bucket')\n",
    "metadata.update_column(column_name='mortality', sdtype='boolean')\n",
    "metadata.update_column(column_name='stay_id', sdtype='id',  regex_format = \"[0-9]{8}\")\n",
    "metadata.update_column(column_name='gcs', sdtype = 'numerical', computer_representation='Int64')\n",
    "metadata.update_column(column_name='charlson', sdtype='numerical', computer_representation='Int64')\n",
    "metadata.set_sequence_key(column_name='stay_id')\n",
    "metadata.validate()\n",
    "\n",
    "# Creating synethetizer\n",
    "synthesizer = PARSynthesizer(\n",
    "    metadata,\n",
    "    enforce_min_max_values = True,\n",
    "    enforce_rounding = True,\n",
    "    context_columns=['anchor_age', 'gender', 'race', 'marital_status', 'insurance', 'charlson', 'mortality'],\n",
    "    verbose = True,\n",
    "    cuda = True,\n",
    "    epochs= 512,\n",
    ")\n",
    "\n",
    "# # Adding constraints\n",
    "# charlson_constraint = {\n",
    "#     'constraint_class': 'ScalarRange',\n",
    "#     'constraint_parameters': {\n",
    "#         'column_name': 'charlson',\n",
    "#         'low_value': 0,\n",
    "#         'high_value': 24,\n",
    "#         'strict_boundaries': False}\n",
    "# }\n",
    "\n",
    "# synthesizer.add_constraints(constraints=[charlson_constraint])"
   ]
  },
  {
   "cell_type": "code",
   "execution_count": 6,
   "id": "044cd9aa-85a5-4a6f-8a5f-4f42bec3a581",
   "metadata": {},
   "outputs": [],
   "source": [
    "# Fitting synthesizer. Only run once, when needed!\n",
    "# synthesizer.fit(df_complete)\n",
    "\n",
    "# Saving synthesizer\n",
    "# synthesizer = PARSynthesizer.load(\n",
    "#     filepath='my_synthesizer.pkl'\n",
    "# )\n",
    "\n",
    "# Generating synethetic data from synthesizer\n",
    "# synthetic_data = synthesizer.sample(num_sequences=4000)\n",
    "\n",
    "# save the data as a CSV\n",
    "#synthetic_data.to_csv('synthetic_data.csv', index=False)"
   ]
  },
  {
   "cell_type": "code",
   "execution_count": 7,
   "id": "e0562ac9-2cac-44d7-8b94-cfc49cbbc578",
   "metadata": {},
   "outputs": [
    {
     "ename": "SamplingError",
     "evalue": "This synthesizer was created on a machine with GPU but the current machine is CPU-only. This feature is currently unsupported. We recommend sampling on the same GPU-enabled machine.",
     "output_type": "error",
     "traceback": [
      "\u001b[0;31m---------------------------------------------------------------------------\u001b[0m",
      "\u001b[0;31mRuntimeError\u001b[0m                              Traceback (most recent call last)",
      "File \u001b[0;32m~/.local/lib/python3.10/site-packages/sdv/single_table/base.py:550\u001b[0m, in \u001b[0;36mBaseSynthesizer.load\u001b[0;34m(cls, filepath)\u001b[0m\n\u001b[1;32m    549\u001b[0m \u001b[38;5;28;01mtry\u001b[39;00m:\n\u001b[0;32m--> 550\u001b[0m     synthesizer \u001b[38;5;241m=\u001b[39m \u001b[43mcloudpickle\u001b[49m\u001b[38;5;241;43m.\u001b[39;49m\u001b[43mload\u001b[49m\u001b[43m(\u001b[49m\u001b[43mf\u001b[49m\u001b[43m)\u001b[49m\n\u001b[1;32m    551\u001b[0m \u001b[38;5;28;01mexcept\u001b[39;00m \u001b[38;5;167;01mRuntimeError\u001b[39;00m \u001b[38;5;28;01mas\u001b[39;00m e:\n",
      "File \u001b[0;32m~/.local/lib/python3.10/site-packages/torch/storage.py:520\u001b[0m, in \u001b[0;36m_load_from_bytes\u001b[0;34m(b)\u001b[0m\n\u001b[1;32m    519\u001b[0m \u001b[38;5;28;01mdef\u001b[39;00m \u001b[38;5;21m_load_from_bytes\u001b[39m(b):\n\u001b[0;32m--> 520\u001b[0m     \u001b[38;5;28;01mreturn\u001b[39;00m \u001b[43mtorch\u001b[49m\u001b[38;5;241;43m.\u001b[39;49m\u001b[43mload\u001b[49m\u001b[43m(\u001b[49m\u001b[43mio\u001b[49m\u001b[38;5;241;43m.\u001b[39;49m\u001b[43mBytesIO\u001b[49m\u001b[43m(\u001b[49m\u001b[43mb\u001b[49m\u001b[43m)\u001b[49m\u001b[43m,\u001b[49m\u001b[43m \u001b[49m\u001b[43mweights_only\u001b[49m\u001b[38;5;241;43m=\u001b[39;49m\u001b[38;5;28;43;01mFalse\u001b[39;49;00m\u001b[43m)\u001b[49m\n",
      "File \u001b[0;32m~/.local/lib/python3.10/site-packages/torch/serialization.py:1384\u001b[0m, in \u001b[0;36mload\u001b[0;34m(f, map_location, pickle_module, weights_only, mmap, **pickle_load_args)\u001b[0m\n\u001b[1;32m   1383\u001b[0m         \u001b[38;5;28;01mraise\u001b[39;00m pickle\u001b[38;5;241m.\u001b[39mUnpicklingError(_get_wo_message(\u001b[38;5;28mstr\u001b[39m(e))) \u001b[38;5;28;01mfrom\u001b[39;00m \u001b[38;5;28;01mNone\u001b[39;00m\n\u001b[0;32m-> 1384\u001b[0m \u001b[38;5;28;01mreturn\u001b[39;00m \u001b[43m_legacy_load\u001b[49m\u001b[43m(\u001b[49m\n\u001b[1;32m   1385\u001b[0m \u001b[43m    \u001b[49m\u001b[43mopened_file\u001b[49m\u001b[43m,\u001b[49m\u001b[43m \u001b[49m\u001b[43mmap_location\u001b[49m\u001b[43m,\u001b[49m\u001b[43m \u001b[49m\u001b[43mpickle_module\u001b[49m\u001b[43m,\u001b[49m\u001b[43m \u001b[49m\u001b[38;5;241;43m*\u001b[39;49m\u001b[38;5;241;43m*\u001b[39;49m\u001b[43mpickle_load_args\u001b[49m\n\u001b[1;32m   1386\u001b[0m \u001b[43m\u001b[49m\u001b[43m)\u001b[49m\n",
      "File \u001b[0;32m~/.local/lib/python3.10/site-packages/torch/serialization.py:1638\u001b[0m, in \u001b[0;36m_legacy_load\u001b[0;34m(f, map_location, pickle_module, **pickle_load_args)\u001b[0m\n\u001b[1;32m   1637\u001b[0m unpickler\u001b[38;5;241m.\u001b[39mpersistent_load \u001b[38;5;241m=\u001b[39m persistent_load\n\u001b[0;32m-> 1638\u001b[0m result \u001b[38;5;241m=\u001b[39m \u001b[43munpickler\u001b[49m\u001b[38;5;241;43m.\u001b[39;49m\u001b[43mload\u001b[49m\u001b[43m(\u001b[49m\u001b[43m)\u001b[49m\n\u001b[1;32m   1640\u001b[0m deserialized_storage_keys \u001b[38;5;241m=\u001b[39m pickle_module\u001b[38;5;241m.\u001b[39mload(f, \u001b[38;5;241m*\u001b[39m\u001b[38;5;241m*\u001b[39mpickle_load_args)\n",
      "File \u001b[0;32m~/.local/lib/python3.10/site-packages/torch/serialization.py:1566\u001b[0m, in \u001b[0;36m_legacy_load.<locals>.persistent_load\u001b[0;34m(saved_id)\u001b[0m\n\u001b[1;32m   1565\u001b[0m     obj\u001b[38;5;241m.\u001b[39m_torch_load_uninitialized \u001b[38;5;241m=\u001b[39m \u001b[38;5;28;01mTrue\u001b[39;00m\n\u001b[0;32m-> 1566\u001b[0m     obj \u001b[38;5;241m=\u001b[39m \u001b[43mrestore_location\u001b[49m\u001b[43m(\u001b[49m\u001b[43mobj\u001b[49m\u001b[43m,\u001b[49m\u001b[43m \u001b[49m\u001b[43mlocation\u001b[49m\u001b[43m)\u001b[49m\n\u001b[1;32m   1567\u001b[0m \u001b[38;5;66;03m# TODO: Once we decide to break serialization FC, we can\u001b[39;00m\n\u001b[1;32m   1568\u001b[0m \u001b[38;5;66;03m# stop wrapping with TypedStorage\u001b[39;00m\n",
      "File \u001b[0;32m~/.local/lib/python3.10/site-packages/torch/serialization.py:601\u001b[0m, in \u001b[0;36mdefault_restore_location\u001b[0;34m(storage, location)\u001b[0m\n\u001b[1;32m    600\u001b[0m \u001b[38;5;28;01mfor\u001b[39;00m _, _, fn \u001b[38;5;129;01min\u001b[39;00m _package_registry:\n\u001b[0;32m--> 601\u001b[0m     result \u001b[38;5;241m=\u001b[39m \u001b[43mfn\u001b[49m\u001b[43m(\u001b[49m\u001b[43mstorage\u001b[49m\u001b[43m,\u001b[49m\u001b[43m \u001b[49m\u001b[43mlocation\u001b[49m\u001b[43m)\u001b[49m\n\u001b[1;32m    602\u001b[0m     \u001b[38;5;28;01mif\u001b[39;00m result \u001b[38;5;129;01mis\u001b[39;00m \u001b[38;5;129;01mnot\u001b[39;00m \u001b[38;5;28;01mNone\u001b[39;00m:\n",
      "File \u001b[0;32m~/.local/lib/python3.10/site-packages/torch/serialization.py:539\u001b[0m, in \u001b[0;36m_deserialize\u001b[0;34m(backend_name, obj, location)\u001b[0m\n\u001b[1;32m    538\u001b[0m \u001b[38;5;28;01mif\u001b[39;00m location\u001b[38;5;241m.\u001b[39mstartswith(backend_name):\n\u001b[0;32m--> 539\u001b[0m     device \u001b[38;5;241m=\u001b[39m \u001b[43m_validate_device\u001b[49m\u001b[43m(\u001b[49m\u001b[43mlocation\u001b[49m\u001b[43m,\u001b[49m\u001b[43m \u001b[49m\u001b[43mbackend_name\u001b[49m\u001b[43m)\u001b[49m\n\u001b[1;32m    540\u001b[0m     \u001b[38;5;28;01mreturn\u001b[39;00m obj\u001b[38;5;241m.\u001b[39mto(device\u001b[38;5;241m=\u001b[39mdevice)\n",
      "File \u001b[0;32m~/.local/lib/python3.10/site-packages/torch/serialization.py:508\u001b[0m, in \u001b[0;36m_validate_device\u001b[0;34m(location, backend_name)\u001b[0m\n\u001b[1;32m    507\u001b[0m \u001b[38;5;28;01mif\u001b[39;00m \u001b[38;5;28mhasattr\u001b[39m(device_module, \u001b[38;5;124m\"\u001b[39m\u001b[38;5;124mis_available\u001b[39m\u001b[38;5;124m\"\u001b[39m) \u001b[38;5;129;01mand\u001b[39;00m \u001b[38;5;129;01mnot\u001b[39;00m device_module\u001b[38;5;241m.\u001b[39mis_available():\n\u001b[0;32m--> 508\u001b[0m     \u001b[38;5;28;01mraise\u001b[39;00m \u001b[38;5;167;01mRuntimeError\u001b[39;00m(\n\u001b[1;32m    509\u001b[0m         \u001b[38;5;124mf\u001b[39m\u001b[38;5;124m\"\u001b[39m\u001b[38;5;124mAttempting to deserialize object on a \u001b[39m\u001b[38;5;132;01m{\u001b[39;00mbackend_name\u001b[38;5;241m.\u001b[39mupper()\u001b[38;5;132;01m}\u001b[39;00m\u001b[38;5;124m \u001b[39m\u001b[38;5;124m\"\u001b[39m\n\u001b[1;32m    510\u001b[0m         \u001b[38;5;124mf\u001b[39m\u001b[38;5;124m\"\u001b[39m\u001b[38;5;124mdevice but torch.\u001b[39m\u001b[38;5;132;01m{\u001b[39;00mbackend_name\u001b[38;5;132;01m}\u001b[39;00m\u001b[38;5;124m.is_available() is False. \u001b[39m\u001b[38;5;124m\"\u001b[39m\n\u001b[1;32m    511\u001b[0m         \u001b[38;5;124m\"\u001b[39m\u001b[38;5;124mIf you are running on a CPU-only machine, \u001b[39m\u001b[38;5;124m\"\u001b[39m\n\u001b[1;32m    512\u001b[0m         \u001b[38;5;124m\"\u001b[39m\u001b[38;5;124mplease use torch.load with map_location=torch.device(\u001b[39m\u001b[38;5;124m'\u001b[39m\u001b[38;5;124mcpu\u001b[39m\u001b[38;5;124m'\u001b[39m\u001b[38;5;124m) \u001b[39m\u001b[38;5;124m\"\u001b[39m\n\u001b[1;32m    513\u001b[0m         \u001b[38;5;124m\"\u001b[39m\u001b[38;5;124mto map your storages to the CPU.\u001b[39m\u001b[38;5;124m\"\u001b[39m\n\u001b[1;32m    514\u001b[0m     )\n\u001b[1;32m    515\u001b[0m \u001b[38;5;28;01mif\u001b[39;00m \u001b[38;5;28mhasattr\u001b[39m(device_module, \u001b[38;5;124m\"\u001b[39m\u001b[38;5;124mdevice_count\u001b[39m\u001b[38;5;124m\"\u001b[39m):\n",
      "\u001b[0;31mRuntimeError\u001b[0m: Attempting to deserialize object on a CUDA device but torch.cuda.is_available() is False. If you are running on a CPU-only machine, please use torch.load with map_location=torch.device('cpu') to map your storages to the CPU.",
      "\nDuring handling of the above exception, another exception occurred:\n",
      "\u001b[0;31mSamplingError\u001b[0m                             Traceback (most recent call last)",
      "Cell \u001b[0;32mIn[7], line 2\u001b[0m\n\u001b[1;32m      1\u001b[0m \u001b[38;5;66;03m# Loading synethesizer\u001b[39;00m\n\u001b[0;32m----> 2\u001b[0m synthesizer \u001b[38;5;241m=\u001b[39m \u001b[43mPARSynthesizer\u001b[49m\u001b[38;5;241;43m.\u001b[39;49m\u001b[43mload\u001b[49m\u001b[43m(\u001b[49m\n\u001b[1;32m      3\u001b[0m \u001b[43m    \u001b[49m\u001b[43mfilepath\u001b[49m\u001b[38;5;241;43m=\u001b[39;49m\u001b[38;5;124;43m'\u001b[39;49m\u001b[38;5;124;43mmodels/my_synthesizer.pkl\u001b[39;49m\u001b[38;5;124;43m'\u001b[39;49m\n\u001b[1;32m      4\u001b[0m \u001b[43m)\u001b[49m\n\u001b[1;32m      6\u001b[0m \u001b[38;5;66;03m# Loading synthetic data\u001b[39;00m\n\u001b[1;32m      7\u001b[0m synthetic_data \u001b[38;5;241m=\u001b[39m pd\u001b[38;5;241m.\u001b[39mread_csv(\u001b[38;5;124m'\u001b[39m\u001b[38;5;124mmodels/synthetic_data.csv\u001b[39m\u001b[38;5;124m'\u001b[39m)\n",
      "File \u001b[0;32m~/.local/lib/python3.10/site-packages/sdv/single_table/base.py:559\u001b[0m, in \u001b[0;36mBaseSynthesizer.load\u001b[0;34m(cls, filepath)\u001b[0m\n\u001b[1;32m    552\u001b[0m         err_msg \u001b[38;5;241m=\u001b[39m (\n\u001b[1;32m    553\u001b[0m             \u001b[38;5;124m'\u001b[39m\u001b[38;5;124mAttempting to deserialize object on a CUDA device but \u001b[39m\u001b[38;5;124m'\u001b[39m\n\u001b[1;32m    554\u001b[0m             \u001b[38;5;124m'\u001b[39m\u001b[38;5;124mtorch.cuda.is_available() is False. If you are running on a CPU-only machine,\u001b[39m\u001b[38;5;124m'\u001b[39m\n\u001b[1;32m    555\u001b[0m             \u001b[38;5;124m\"\u001b[39m\u001b[38;5;124m please use torch.load with map_location=torch.device(\u001b[39m\u001b[38;5;124m'\u001b[39m\u001b[38;5;124mcpu\u001b[39m\u001b[38;5;124m'\u001b[39m\u001b[38;5;124m) \u001b[39m\u001b[38;5;124m\"\u001b[39m\n\u001b[1;32m    556\u001b[0m             \u001b[38;5;124m'\u001b[39m\u001b[38;5;124mto map your storages to the CPU.\u001b[39m\u001b[38;5;124m'\u001b[39m\n\u001b[1;32m    557\u001b[0m         )\n\u001b[1;32m    558\u001b[0m         \u001b[38;5;28;01mif\u001b[39;00m \u001b[38;5;28mstr\u001b[39m(e) \u001b[38;5;241m==\u001b[39m err_msg:\n\u001b[0;32m--> 559\u001b[0m             \u001b[38;5;28;01mraise\u001b[39;00m SamplingError(\n\u001b[1;32m    560\u001b[0m                 \u001b[38;5;124m'\u001b[39m\u001b[38;5;124mThis synthesizer was created on a machine with GPU but the current \u001b[39m\u001b[38;5;124m'\u001b[39m\n\u001b[1;32m    561\u001b[0m                 \u001b[38;5;124m'\u001b[39m\u001b[38;5;124mmachine is CPU-only. This feature is currently unsupported. We recommend\u001b[39m\u001b[38;5;124m'\u001b[39m\n\u001b[1;32m    562\u001b[0m                 \u001b[38;5;124m'\u001b[39m\u001b[38;5;124m sampling on the same GPU-enabled machine.\u001b[39m\u001b[38;5;124m'\u001b[39m\n\u001b[1;32m    563\u001b[0m             )\n\u001b[1;32m    564\u001b[0m         \u001b[38;5;28;01mraise\u001b[39;00m e\n\u001b[1;32m    566\u001b[0m check_synthesizer_version(synthesizer)\n",
      "\u001b[0;31mSamplingError\u001b[0m: This synthesizer was created on a machine with GPU but the current machine is CPU-only. This feature is currently unsupported. We recommend sampling on the same GPU-enabled machine."
     ]
    }
   ],
   "source": [
    "# Loading synethesizer\n",
    "synthesizer = PARSynthesizer.load(\n",
    "    filepath='models/my_synthesizer.pkl'\n",
    ")\n",
    "\n",
    "# Loading synthetic data\n",
    "synthetic_data = pd.read_csv('models/synthetic_data.csv')"
   ]
  },
  {
   "cell_type": "code",
   "execution_count": null,
   "id": "68c8bc57-cd26-4fc5-a1ca-9034d6e669c3",
   "metadata": {
    "scrolled": true
   },
   "outputs": [],
   "source": [
    "synthesizer.sample(num_sequences=2500)"
   ]
  },
  {
   "cell_type": "code",
   "execution_count": null,
   "id": "aed7966c-8bde-4f25-b214-4dc23ff3d260",
   "metadata": {
    "jupyter": {
     "source_hidden": true
    }
   },
   "outputs": [],
   "source": [
    "data_types = {\n",
    "    'stay_id': 'categorical',           # Changed from set to string\n",
    "    #'time_bucket': 'datetime',\n",
    "    'anchor_age': 'continuous',\n",
    "    'gender': 'categorical',\n",
    "    'race': 'categorical',\n",
    "    'marital_status': 'categorical',\n",
    "    'insurance': 'categorical',\n",
    "    'vent': 'categorical',\n",
    "    'charlson': 'categorical',\n",
    "    'mortality': 'categorical',\n",
    "    'map': 'continuous',\n",
    "    'hr': 'continuous',\n",
    "    'pao2': 'continuous',\n",
    "    'fio2': 'continuous',\n",
    "    'creatinine': 'continuous',\n",
    "    'platelets': 'continuous',\n",
    "    'lactate': 'continuous',\n",
    "    'gcs': 'continuous',\n",
    "    'epinephrine': 'continuous',\n",
    "    'norepinephrine': 'continuous',\n",
    "    'phenylephrine': 'continuous',\n",
    "    'dobutamine': 'continuous',\n",
    "    'milrinone': 'continuous',\n",
    "    'dopamine': 'continuous'\n",
    "}\n",
    "\n",
    "# Adding constraints\n",
    "model.add_constraints(\n",
    "    constraints=[\"\"]\n",
    ")\n",
    "\n",
    "model = deepecho.PARModel(epochs=10, cuda=True)\n",
    "model.fit(\n",
    "    data=df_complete,\n",
    "    data_types=data_types,\n",
    "    entity_columns=['stay_id'],        # Changed to list\n",
    "    context_columns=['anchor_age', 'gender', 'race', 'marital_status', 'insurance','charlson', 'mortality'],\n",
    "    sequence_index='time_bucket'\n",
    ")\n"
   ]
  },
  {
   "cell_type": "code",
   "execution_count": null,
   "id": "41139284-c103-4a60-8faa-cb8ec88fd927",
   "metadata": {},
   "outputs": [],
   "source": [
    "synthetic_data = model.sample(1000)\n",
    "synthetic_data.head()"
   ]
  },
  {
   "cell_type": "code",
   "execution_count": null,
   "id": "fc9e6620-8a2d-49e8-9d43-2073d51c11b2",
   "metadata": {},
   "outputs": [],
   "source": [
    "# Number of deaths in synthetic data\n",
    "synthetic_data.groupby('stay_id').mortality.any().sum()"
   ]
  },
  {
   "cell_type": "code",
   "execution_count": null,
   "id": "70418082-9527-40d3-a26a-3a8bc3ecf187",
   "metadata": {},
   "outputs": [],
   "source": [
    "complete_final_df.race.describe()"
   ]
  },
  {
   "cell_type": "code",
   "execution_count": null,
   "id": "6b378282-fb85-4dd6-8af9-57f0fa01d175",
   "metadata": {},
   "outputs": [],
   "source": []
  },
  {
   "cell_type": "markdown",
   "id": "2c5ce7fd-0226-4246-ab9a-f08ad1323096",
   "metadata": {
    "tags": []
   },
   "source": [
    "## Model Building"
   ]
  },
  {
   "cell_type": "code",
   "execution_count": 5,
   "id": "cd13ca35-5bd2-4401-a005-79cd73e66773",
   "metadata": {},
   "outputs": [],
   "source": [
    "import random\n",
    "# Ensure reproducibility by setting random seeds\n",
    "SEED = 42\n",
    "os.environ['PYTHONHASHSEED'] = str(SEED)\n",
    "os.environ['PYTHONHASHSEED'] = str(SEED)\n",
    "os.environ['TF_DETERMINISTIC_OPS'] = '1'\n",
    "os.environ['TF_CUDNN_DETERMINISTIC'] = '1'\n",
    "tf.random.set_seed(SEED)\n",
    "np.random.seed(SEED)\n",
    "random.seed(SEED)"
   ]
  },
  {
   "cell_type": "code",
   "execution_count": 6,
   "id": "3ccf77d4-0639-44e4-ad24-a5b23833190e",
   "metadata": {},
   "outputs": [],
   "source": [
    "# Creating F1 score class\n",
    "class F1Score(tf.keras.metrics.Metric):\n",
    "    def __init__(self, name='f1_score', **kwargs):\n",
    "        super(F1Score, self).__init__(name=name, **kwargs)\n",
    "        self.precision = tf.keras.metrics.Precision()\n",
    "        self.recall = tf.keras.metrics.Recall()\n",
    "\n",
    "    def update_state(self, y_true, y_pred, sample_weight=None):\n",
    "        self.precision.update_state(y_true, y_pred, sample_weight)\n",
    "        self.recall.update_state(y_true, y_pred, sample_weight)\n",
    "\n",
    "    def result(self):\n",
    "        precision = self.precision.result()\n",
    "        recall = self.recall.result()\n",
    "        return 2 * ((precision * recall) / (precision + recall + tf.keras.backend.epsilon()))\n",
    "\n",
    "    def reset_states(self):\n",
    "        self.precision.reset_states()\n",
    "        self.recall.reset_states()"
   ]
  },
  {
   "cell_type": "code",
   "execution_count": 7,
   "id": "d9b6069b-c1c0-4cad-a218-9060ba78e0f9",
   "metadata": {},
   "outputs": [],
   "source": [
    "# Create class to preprocess data\n",
    "class preprocessor:\n",
    "    def __init__(self, pad_length=156, seed = 42):\n",
    "            # Set global seeds\n",
    "        np.random.seed(seed)\n",
    "        tf.random.set_seed(seed)\n",
    "        keras.utils.set_random_seed(seed)\n",
    "        \n",
    "        # Enable deterministic operations\n",
    "        tf.config.experimental.enable_op_determinism()\n",
    "\n",
    "        self.pad_length = pad_length\n",
    "        self.label_encoders = {}\n",
    "        self.numerical_scaler = StandardScaler()\n",
    "        self.numerical_columns = [\"anchor_age\", \"map\", \"hr\", \"pao2\", \"fio2\", \"gcs\", \"charlson\",\n",
    "                                \"creatinine\", \"lactate\", \"platelets\", \"epinephrine\", \n",
    "                                \"norepinephrine\", \"phenylephrine\", \"dobutamine\", \n",
    "                                \"milrinone\", \"dopamine\"]\n",
    "        self.categorical_columns = ['insurance', 'gender', 'race', 'marital_status']\n",
    "        self.binary_columns = ['vent']\n",
    "        self.outcome = ['mortality']\n",
    "\n",
    "    def fit(self, df):\n",
    "        \"\"\"Fit preprocessor on training data\"\"\"\n",
    "        # Initialize and fit label encoders for categorical columns\n",
    "        for col in self.categorical_columns:\n",
    "            self.label_encoders[col] = LabelEncoder()\n",
    "            self.label_encoders[col].fit(df[col].astype(str))\n",
    "        \n",
    "        # Fit scaler on numerical columns (reshaping for time series)\n",
    "        numerical_data = df[self.numerical_columns].values\n",
    "        self.numerical_scaler.fit(numerical_data)\n",
    "                \n",
    "        return self\n",
    "\n",
    "    def transform(self, df):\n",
    "        \"\"\"Transform the data using fitted preprocessors\"\"\"\n",
    "        # Transform categorical columns\n",
    "        transformed_categorical = df[self.categorical_columns].copy()\n",
    "        for col in self.categorical_columns:\n",
    "            transformed_categorical[col] = self.label_encoders[col].transform(df[col].astype(str))\n",
    "\n",
    "        # Stay ID\n",
    "        stay_id = df['stay_id'].copy()\n",
    "        \n",
    "        # Scale numerical columns\n",
    "        transformed_numerical = pd.DataFrame(\n",
    "            self.numerical_scaler.transform(df[self.numerical_columns]),\n",
    "            columns=self.numerical_columns\n",
    "        )\n",
    "\n",
    "        # Binary columns are used as-is (no transformation)\n",
    "        transformed_binary = df[self.binary_columns].astype(int)\n",
    "        transformed_outcome = df[self.outcome].astype(int)\n",
    "        \n",
    "        # Concatenate data\n",
    "        transformed_data = pd.concat([stay_id, transformed_categorical, transformed_numerical, transformed_binary, transformed_outcome], axis=1)\n",
    "        self.transformed_data = transformed_data\n",
    "        \n",
    "        # Combine transformed categorical, numerical, and binary columns\n",
    "        return transformed_data\n",
    "\n",
    "    def vectorization(self):\n",
    "        \"\"\"Convert transformed data to sequence vectors\"\"\"\n",
    "        # Create sequences\n",
    "        self.sequence_data = []\n",
    "        self.sequence_labels = []\n",
    "        \n",
    "        for stay in self.transformed_data['stay_id'].unique():\n",
    "            stay_data = self.transformed_data[self.transformed_data['stay_id'] == stay]\n",
    "            features = stay_data[self.numerical_columns + self.categorical_columns + self.binary_columns].values\n",
    "            label = stay_data[self.outcome].values[-1]\n",
    "            \n",
    "            self.sequence_data.append(features)\n",
    "            self.sequence_labels.append(label)\n",
    "        \n",
    "        # Pad sequences\n",
    "        self.sequence_data = keras.preprocessing.sequence.pad_sequences(\n",
    "            self.sequence_data, \n",
    "            padding='post',\n",
    "            maxlen=self.pad_length,\n",
    "            value=-99\n",
    "        )\n",
    "\n",
    "        self.sequence_labels = np.array(self.sequence_labels)\n",
    "        \n",
    "        return self\n",
    "\n",
    "    def train_test_split(self, size = 0.8):\n",
    "        \"\"\"Split data into training testing\"\"\"\n",
    "        self.X_train, self.X_val, self.y_train, self.y_val = train_test_split(self.sequence_data, self.sequence_labels, test_size=0.2, random_state=42)\n",
    "        return self\n",
    "\n",
    "    def Dataset(self, batch_size = 64):\n",
    "        \"\"\"Create dataset object\"\"\"\n",
    "        train_df = tf.data.Dataset.from_tensor_slices((self.X_train, self.y_train))\n",
    "        train_df = (\n",
    "            train_df\n",
    "            .shuffle(buffer_size=len(self.X_train))        # Shuffle the entire dataset in memory\n",
    "            .batch(batch_size)                        # Batch the data\n",
    "            .prefetch(buffer_size=tf.data.AUTOTUNE)   # Prefetch batches for performance\n",
    "        )\n",
    "        \n",
    "        val_df = tf.data.Dataset.from_tensor_slices((self.X_val, self.y_val))\n",
    "        val_df = (\n",
    "            val_df\n",
    "            .batch(batch_size)                        # Batch the data\n",
    "            .prefetch(buffer_size=tf.data.AUTOTUNE)   # Prefetch batches for performance\n",
    "        )\n",
    "\n",
    "        return train_df, val_df\n"
   ]
  },
  {
   "cell_type": "code",
   "execution_count": 8,
   "id": "35cb26f5-a093-49ee-b12a-7ee3e4bd49a0",
   "metadata": {},
   "outputs": [
    {
     "name": "stderr",
     "output_type": "stream",
     "text": [
      "/usr/local/lib/python3.10/dist-packages/sklearn/base.py:402: UserWarning: X has feature names, but StandardScaler was fitted without feature names\n",
      "  warnings.warn(\n"
     ]
    }
   ],
   "source": [
    "preprocess = preprocessor()\n",
    "\n",
    "# Encoding data\n",
    "preprocess.fit(complete_final_df)\n",
    "data = preprocess.transform(complete_final_df)\n",
    "\n",
    "# Vectorization\n",
    "preprocess.vectorization()\n",
    "\n",
    "# Splitting train/test\n",
    "preprocess.train_test_split()\n",
    "\n",
    "# Creating datasets\n",
    "train, val = preprocess.Dataset()"
   ]
  },
  {
   "cell_type": "code",
   "execution_count": 9,
   "id": "f12cb7f7-7eac-462a-8446-2766fb140a21",
   "metadata": {},
   "outputs": [],
   "source": [
    "# Extract the shape of the input data from the Dataset\n",
    "for X_batch, _ in train.take(1):\n",
    "    input_shape = X_batch.shape[1:]  # Exclude the batch dimension\n",
    "    break"
   ]
  },
  {
   "cell_type": "markdown",
   "id": "424cf62c-7132-4bcb-a3ef-83496a8547a2",
   "metadata": {},
   "source": [
    "Define custom wrapper for the Keras model to use with keras tuner"
   ]
  },
  {
   "cell_type": "code",
   "execution_count": 71,
   "id": "9513df68-62e9-4849-a3ec-670b4c406a22",
   "metadata": {},
   "outputs": [],
   "source": [
    "class KerasModelWrapper(BaseEstimator, ClassifierMixin):\n",
    "    def __init__(self, class_weight=None, seed = 42):\n",
    "        # Set global seeds\n",
    "        np.random.seed(seed)\n",
    "        tf.random.set_seed(seed)\n",
    "        keras.utils.set_random_seed(seed)\n",
    "        # Enable deterministic operations\n",
    "        tf.config.experimental.enable_op_determinism()\n",
    "\n",
    "        self.seed = seed\n",
    "        self.model = None\n",
    "        self.best_hp = None\n",
    "        self.classes_ = np.array([0, 1])  # Binary classification\n",
    "        self.tuner = None\n",
    "        self.class_weight = class_weight  # Store class weights\n",
    "        self.callbacks = [\n",
    "            tf.keras.callbacks.EarlyStopping(\n",
    "                monitor='val_loss',\n",
    "                patience=3,\n",
    "                restore_best_weights=True\n",
    "    )\n",
    "]\n",
    "\n",
    "    def create_model(self, hp):\n",
    "        \"\"\"Create the model with optional hyperparameters.\"\"\"\n",
    "        # Define hyperparameters\n",
    "        hp_units = hp.Int('units', min_value=16, max_value=256, step = 16)\n",
    "        hp_dropout = hp.Choice('dropout_rate', [0.2, 0.3, 0.4, 0.5])\n",
    "        hp_learning_rate = hp.Choice('learning_rate', values=[1e-2, 1e-3, 1e-4])\n",
    "\n",
    "        # Add seed to layer initialization\n",
    "        initializer = tf.keras.initializers.GlorotUniform(seed=self.seed)\n",
    "        \n",
    "        # Defining model architecture\n",
    "        model = keras.Sequential([\n",
    "                    keras.layers.InputLayer(shape=((input_shape[0],input_shape[1]))),\n",
    "                    keras.layers.Masking(mask_value=-99),\n",
    "                    layers.LSTM(hp_units, return_sequences=False, dropout=hp_dropout, kernel_initializer=initializer, recurrent_initializer=initializer),\n",
    "                    keras.layers.Dense(1, activation=None, kernel_initializer=initializer)\n",
    "                ])\n",
    "\n",
    "        # Defining metrics\n",
    "        metrics = [\n",
    "            'accuracy',\n",
    "            Precision(name='precision'),\n",
    "            Recall(name='recall'),\n",
    "            AUC(name='auc'),\n",
    "            AUC(name='auprc', curve='PR'),\n",
    "            F1Score(name='f1_score')\n",
    "        ]\n",
    "\n",
    "        # Use binary cross-entropy with logits\n",
    "        loss_fn = tf.keras.losses.BinaryCrossentropy(from_logits=True)\n",
    "\n",
    "        # Compiling model\n",
    "        model.compile(optimizer=Adam(learning_rate=hp_learning_rate), \n",
    "                     loss= loss_fn, \n",
    "                     metrics=metrics)\n",
    "        return model\n",
    "\n",
    "    def compute_class_weight(self, df):\n",
    "        \"\"\"\n",
    "        Compute class weights automatically if not provided\n",
    "        \n",
    "        Args:\n",
    "            train: TensorFlow dataset\n",
    "        \n",
    "        Returns:\n",
    "            dict: Class weights\n",
    "        \"\"\"\n",
    "        # Extract labels from the dataset\n",
    "        #y_true = np.array([label.numpy() for _, label in df])\n",
    "        y_true = np.concatenate([label.numpy().flatten() for _, label in df], axis=0)\n",
    "\n",
    "        # Compute class distribution\n",
    "        unique, counts = np.unique(y_true, return_counts=True)\n",
    "        total_samples = len(y_true)\n",
    "        \n",
    "        # Compute balanced class weights\n",
    "        class_weights = {\n",
    "            0: total_samples / (2 * counts[0]),\n",
    "            1: total_samples / (2 * counts[1])\n",
    "        }\n",
    "        \n",
    "        return class_weights\n",
    "    \n",
    "    def tune(self, train, validation):\n",
    "        \"\"\"Hyperparameter fine tuning using random grid search\"\"\"\n",
    "        # Automatically compute class weights if not provided\n",
    "        if self.class_weight is None:\n",
    "            self.class_weight = self.compute_class_weight(train)\n",
    "\n",
    "        def build_model(hp):\n",
    "            return self.create_model(hp)\n",
    "        \n",
    "        tuner = RandomSearch(\n",
    "            build_model,\n",
    "            objective=Objective(\"val_auprc\", direction=\"max\"),\n",
    "            max_trials=25,\n",
    "            executions_per_trial=1,\n",
    "            directory='models',\n",
    "            project_name='lstm_tuning_2',\n",
    "            seed = 42\n",
    "        )\n",
    "    \n",
    "        tuner.search(\n",
    "            train,\n",
    "            validation_data=validation,\n",
    "            epochs=20,\n",
    "            callbacks=self.callbacks,\n",
    "            class_weight=self.class_weight  # Add class weights to search\n",
    "        )\n",
    "    \n",
    "        # Save the best hyperparameters and model\n",
    "        self.best_hp = tuner.get_best_hyperparameters(num_trials=1)[0]\n",
    "        self.model = tuner.get_best_models(num_models=1)[0]\n",
    "        self.tuner = tuner\n",
    "    \n",
    "        return self.best_hp, self.model\n",
    "\n",
    "    def retrain_best_model(self, train, validation):\n",
    "        \"\"\"Retrain the best model to obtain its training history.\"\"\"\n",
    "        if self.best_hp is None:\n",
    "            raise ValueError(\"No hyperparameters tuned yet. Please run tune().\")\n",
    "\n",
    "        # Automatically compute class weights if not provided\n",
    "        if self.class_weight is None:\n",
    "            self.class_weight = self.compute_class_weight(train)\n",
    "        \n",
    "        # Rebuild the best model using the best hyperparameters\n",
    "        best_model = self.create_model(self.best_hp)\n",
    "        \n",
    "        # Retrain the model and capture the history\n",
    "        history = best_model.fit(\n",
    "            train,\n",
    "            epochs=20,  # Adjust as needed\n",
    "            validation_data=validation,\n",
    "            #callbacks=self.callbacks,\n",
    "            verbose=1,\n",
    "            class_weight=self.class_weight\n",
    "        )\n",
    "        return best_model, history\n",
    "    \n",
    "    def predict(self, df):\n",
    "        \"\"\"Return predicted class labels\"\"\"\n",
    "        if self.model is None:\n",
    "            raise ValueError(\"No model has been trained or tuned yet.\")\n",
    "\n",
    "        logits = self.model.predict(df)  # Predict probabilities\n",
    "        probabilities = tf.nn.sigmoid(logits).numpy()\n",
    "        return (probabilities > 0.5).astype(int).flatten()  # Convert to binary class labels (0 or 1)\n",
    "    \n",
    "    def predict_proba(self, df):\n",
    "        \"\"\"Return probability estimates for both classes (negative and positive)\"\"\"\n",
    "        if self.model is None:\n",
    "            raise ValueError(\"No model has been trained or tuned yet.\")\n",
    "\n",
    "        logits = self.model.predict(df)  # Predict probabilities\n",
    "        probabilities = tf.nn.sigmoid(logits).numpy()\n",
    "        return np.hstack([1 - probabilities, probabilities])  # Class 0 and Class 1 probabilities\n",
    "\n",
    "    # def get_best_model_metrics(self, df):\n",
    "    #     \"\"\"Retrieve the performance metrics of the best tuned model.\"\"\"\n",
    "    #     if self.model is None:\n",
    "    #         raise ValueError(\"No model has been trained or tuned yet.\")\n",
    "        \n",
    "    #     # Evaluate the model\n",
    "    #     metrics = self.model.evaluate(df, verbose=0)\n",
    "    \n",
    "    #     # Format metrics as a dictionary\n",
    "    #     return {name: value for name, value in zip(self.model.metrics_names, metrics)}\n",
    "    \n",
    "    def accuracy(self, df):\n",
    "        \"\"\"Return accuracy score\"\"\"\n",
    "        if self.model is None:\n",
    "            raise ValueError(\"No model has been trained or tuned yet.\")\n",
    "\n",
    "        # Extract true labels\n",
    "        y_true = np.array([label.numpy() for _, label in df])  # Convert from TensorFlow dataset to NumPy\n",
    "        y_pred = self.predict(df)\n",
    "        return accuracy_score(y_true, y_pred)"
   ]
  },
  {
   "cell_type": "markdown",
   "id": "68f8f8b6-6efd-4782-8c32-b5eca38f5dfd",
   "metadata": {},
   "source": [
    "Instantiate the model wrapper, define the parameters for grid tuning, and conduct RandomizedSearchCV to tune hyperparameters"
   ]
  },
  {
   "cell_type": "code",
   "execution_count": 72,
   "id": "2b70c6b7-da87-403e-8466-c29c62e0a3b5",
   "metadata": {},
   "outputs": [
    {
     "name": "stdout",
     "output_type": "stream",
     "text": [
      "Reloading Tuner from models/lstm_tuning_2/tuner0.json\n"
     ]
    },
    {
     "name": "stderr",
     "output_type": "stream",
     "text": [
      "/home/krb3ym/.local/lib/python3.10/site-packages/keras/src/saving/saving_lib.py:719: UserWarning: Skipping variable loading for optimizer 'adam', because it has 2 variables whereas the saved optimizer has 12 variables. \n",
      "  saveable.load_own_variables(weights_store.get(inner_path))\n"
     ]
    }
   ],
   "source": [
    "# Initiate Wrapper\n",
    "wrapper = KerasModelWrapper()\n",
    "# Fine tune the model with training and validation set\n",
    "best_hp, best_model = wrapper.tune(train, val)"
   ]
  },
  {
   "cell_type": "markdown",
   "id": "7b8027aa-b7c1-4734-9bef-67a0f1ed2a37",
   "metadata": {},
   "source": [
    "Best parameters and score"
   ]
  },
  {
   "cell_type": "code",
   "execution_count": 73,
   "id": "993e1e66-3473-4cf1-9445-cd0b2f814d26",
   "metadata": {},
   "outputs": [
    {
     "name": "stdout",
     "output_type": "stream",
     "text": [
      "Best Hyperparameters: {'units': 48, 'dropout_rate': 0.3, 'learning_rate': 0.01}\n"
     ]
    },
    {
     "data": {
      "text/html": [
       "<pre style=\"white-space:pre;overflow-x:auto;line-height:normal;font-family:Menlo,'DejaVu Sans Mono',consolas,'Courier New',monospace\"><span style=\"font-weight: bold\">Model: \"sequential\"</span>\n",
       "</pre>\n"
      ],
      "text/plain": [
       "\u001b[1mModel: \"sequential\"\u001b[0m\n"
      ]
     },
     "metadata": {},
     "output_type": "display_data"
    },
    {
     "data": {
      "text/html": [
       "<pre style=\"white-space:pre;overflow-x:auto;line-height:normal;font-family:Menlo,'DejaVu Sans Mono',consolas,'Courier New',monospace\">┏━━━━━━━━━━━━━━━━━━━━━━━━━━━━━━━━━┳━━━━━━━━━━━━━━━━━━━━━━━━┳━━━━━━━━━━━━━━━┓\n",
       "┃<span style=\"font-weight: bold\"> Layer (type)                    </span>┃<span style=\"font-weight: bold\"> Output Shape           </span>┃<span style=\"font-weight: bold\">       Param # </span>┃\n",
       "┡━━━━━━━━━━━━━━━━━━━━━━━━━━━━━━━━━╇━━━━━━━━━━━━━━━━━━━━━━━━╇━━━━━━━━━━━━━━━┩\n",
       "│ masking (<span style=\"color: #0087ff; text-decoration-color: #0087ff\">Masking</span>)               │ (<span style=\"color: #00d7ff; text-decoration-color: #00d7ff\">None</span>, <span style=\"color: #00af00; text-decoration-color: #00af00\">156</span>, <span style=\"color: #00af00; text-decoration-color: #00af00\">21</span>)        │             <span style=\"color: #00af00; text-decoration-color: #00af00\">0</span> │\n",
       "├─────────────────────────────────┼────────────────────────┼───────────────┤\n",
       "│ lstm (<span style=\"color: #0087ff; text-decoration-color: #0087ff\">LSTM</span>)                     │ (<span style=\"color: #00d7ff; text-decoration-color: #00d7ff\">None</span>, <span style=\"color: #00af00; text-decoration-color: #00af00\">48</span>)             │        <span style=\"color: #00af00; text-decoration-color: #00af00\">13,440</span> │\n",
       "├─────────────────────────────────┼────────────────────────┼───────────────┤\n",
       "│ dense (<span style=\"color: #0087ff; text-decoration-color: #0087ff\">Dense</span>)                   │ (<span style=\"color: #00d7ff; text-decoration-color: #00d7ff\">None</span>, <span style=\"color: #00af00; text-decoration-color: #00af00\">1</span>)              │            <span style=\"color: #00af00; text-decoration-color: #00af00\">49</span> │\n",
       "└─────────────────────────────────┴────────────────────────┴───────────────┘\n",
       "</pre>\n"
      ],
      "text/plain": [
       "┏━━━━━━━━━━━━━━━━━━━━━━━━━━━━━━━━━┳━━━━━━━━━━━━━━━━━━━━━━━━┳━━━━━━━━━━━━━━━┓\n",
       "┃\u001b[1m \u001b[0m\u001b[1mLayer (type)                   \u001b[0m\u001b[1m \u001b[0m┃\u001b[1m \u001b[0m\u001b[1mOutput Shape          \u001b[0m\u001b[1m \u001b[0m┃\u001b[1m \u001b[0m\u001b[1m      Param #\u001b[0m\u001b[1m \u001b[0m┃\n",
       "┡━━━━━━━━━━━━━━━━━━━━━━━━━━━━━━━━━╇━━━━━━━━━━━━━━━━━━━━━━━━╇━━━━━━━━━━━━━━━┩\n",
       "│ masking (\u001b[38;5;33mMasking\u001b[0m)               │ (\u001b[38;5;45mNone\u001b[0m, \u001b[38;5;34m156\u001b[0m, \u001b[38;5;34m21\u001b[0m)        │             \u001b[38;5;34m0\u001b[0m │\n",
       "├─────────────────────────────────┼────────────────────────┼───────────────┤\n",
       "│ lstm (\u001b[38;5;33mLSTM\u001b[0m)                     │ (\u001b[38;5;45mNone\u001b[0m, \u001b[38;5;34m48\u001b[0m)             │        \u001b[38;5;34m13,440\u001b[0m │\n",
       "├─────────────────────────────────┼────────────────────────┼───────────────┤\n",
       "│ dense (\u001b[38;5;33mDense\u001b[0m)                   │ (\u001b[38;5;45mNone\u001b[0m, \u001b[38;5;34m1\u001b[0m)              │            \u001b[38;5;34m49\u001b[0m │\n",
       "└─────────────────────────────────┴────────────────────────┴───────────────┘\n"
      ]
     },
     "metadata": {},
     "output_type": "display_data"
    },
    {
     "data": {
      "text/html": [
       "<pre style=\"white-space:pre;overflow-x:auto;line-height:normal;font-family:Menlo,'DejaVu Sans Mono',consolas,'Courier New',monospace\"><span style=\"font-weight: bold\"> Total params: </span><span style=\"color: #00af00; text-decoration-color: #00af00\">13,489</span> (52.69 KB)\n",
       "</pre>\n"
      ],
      "text/plain": [
       "\u001b[1m Total params: \u001b[0m\u001b[38;5;34m13,489\u001b[0m (52.69 KB)\n"
      ]
     },
     "metadata": {},
     "output_type": "display_data"
    },
    {
     "data": {
      "text/html": [
       "<pre style=\"white-space:pre;overflow-x:auto;line-height:normal;font-family:Menlo,'DejaVu Sans Mono',consolas,'Courier New',monospace\"><span style=\"font-weight: bold\"> Trainable params: </span><span style=\"color: #00af00; text-decoration-color: #00af00\">13,489</span> (52.69 KB)\n",
       "</pre>\n"
      ],
      "text/plain": [
       "\u001b[1m Trainable params: \u001b[0m\u001b[38;5;34m13,489\u001b[0m (52.69 KB)\n"
      ]
     },
     "metadata": {},
     "output_type": "display_data"
    },
    {
     "data": {
      "text/html": [
       "<pre style=\"white-space:pre;overflow-x:auto;line-height:normal;font-family:Menlo,'DejaVu Sans Mono',consolas,'Courier New',monospace\"><span style=\"font-weight: bold\"> Non-trainable params: </span><span style=\"color: #00af00; text-decoration-color: #00af00\">0</span> (0.00 B)\n",
       "</pre>\n"
      ],
      "text/plain": [
       "\u001b[1m Non-trainable params: \u001b[0m\u001b[38;5;34m0\u001b[0m (0.00 B)\n"
      ]
     },
     "metadata": {},
     "output_type": "display_data"
    }
   ],
   "source": [
    "print(f\"Best Hyperparameters: {best_hp.values}\")\n",
    "wrapper.model.summary()  # Show the best model architecture"
   ]
  },
  {
   "cell_type": "code",
   "execution_count": 78,
   "id": "c6fa2b63-050e-4a3f-80e5-6b3c34812780",
   "metadata": {},
   "outputs": [
    {
     "name": "stdout",
     "output_type": "stream",
     "text": [
      "\u001b[1m13/13\u001b[0m \u001b[32m━━━━━━━━━━━━━━━━━━━━\u001b[0m\u001b[37m\u001b[0m \u001b[1m0s\u001b[0m 22ms/step - accuracy: 0.9987 - auc: 0.7140 - auprc: 0.6720 - f1_score: 0.6628 - loss: 0.1364 - precision: 0.6244 - recall: 0.7143                 \n"
     ]
    },
    {
     "data": {
      "text/plain": [
       "[0.1376761645078659,\n",
       " 0.9961734414100647,\n",
       " 0.75,\n",
       " 1.0,\n",
       " 0.9993548393249512,\n",
       " 0.8999999165534973,\n",
       " 0.8571428060531616]"
      ]
     },
     "execution_count": 78,
     "metadata": {},
     "output_type": "execute_result"
    }
   ],
   "source": [
    "best_model.evaluate(val)"
   ]
  },
  {
   "cell_type": "code",
   "execution_count": 79,
   "id": "3a09a124-0874-4425-b284-37d040e4c827",
   "metadata": {},
   "outputs": [
    {
     "data": {
      "text/plain": [
       "{'accuracy': 0.9961734414100647,\n",
       " 'auc': 0.9993548393249512,\n",
       " 'auprc': 0.8999999165534973,\n",
       " 'f1_score': 0.8571428060531616,\n",
       " 'loss': 0.1376761645078659,\n",
       " 'precision': 0.75,\n",
       " 'recall': 1.0}"
      ]
     },
     "execution_count": 79,
     "metadata": {},
     "output_type": "execute_result"
    }
   ],
   "source": [
    "best_model.get_metrics_result()"
   ]
  },
  {
   "cell_type": "code",
   "execution_count": 76,
   "id": "36d7cb9e-2f8c-4a44-9eeb-47443371733c",
   "metadata": {},
   "outputs": [
    {
     "name": "stdout",
     "output_type": "stream",
     "text": [
      "Epoch 1/20\n",
      "\u001b[1m49/49\u001b[0m \u001b[32m━━━━━━━━━━━━━━━━━━━━\u001b[0m\u001b[37m\u001b[0m \u001b[1m8s\u001b[0m 98ms/step - accuracy: 0.9247 - auc: 0.7059 - auprc: 0.0662 - f1_score: 0.1193 - loss: 0.5695 - precision: 0.0725 - recall: 0.3498 - val_accuracy: 0.9158 - val_auc: 0.9670 - val_auprc: 0.1513 - val_f1_score: 0.2143 - val_loss: 0.5349 - val_precision: 0.1200 - val_recall: 1.0000\n",
      "Epoch 2/20\n",
      "\u001b[1m49/49\u001b[0m \u001b[32m━━━━━━━━━━━━━━━━━━━━\u001b[0m\u001b[37m\u001b[0m \u001b[1m4s\u001b[0m 81ms/step - accuracy: 0.9556 - auc: 0.8045 - auprc: 0.2061 - f1_score: 0.2929 - loss: 0.3876 - precision: 0.1925 - recall: 0.6420 - val_accuracy: 0.9515 - val_auc: 0.9302 - val_auprc: 0.2993 - val_f1_score: 0.2963 - val_loss: 0.3685 - val_precision: 0.1778 - val_recall: 0.8889\n",
      "Epoch 3/20\n",
      "\u001b[1m49/49\u001b[0m \u001b[32m━━━━━━━━━━━━━━━━━━━━\u001b[0m\u001b[37m\u001b[0m \u001b[1m4s\u001b[0m 83ms/step - accuracy: 0.9436 - auc: 0.8246 - auprc: 0.2141 - f1_score: 0.2504 - loss: 0.3415 - precision: 0.1555 - recall: 0.6790 - val_accuracy: 0.9872 - val_auc: 0.9399 - val_auprc: 0.6500 - val_f1_score: 0.6154 - val_loss: 0.4086 - val_precision: 0.4706 - val_recall: 0.8889\n",
      "Epoch 4/20\n",
      "\u001b[1m49/49\u001b[0m \u001b[32m━━━━━━━━━━━━━━━━━━━━\u001b[0m\u001b[37m\u001b[0m \u001b[1m4s\u001b[0m 83ms/step - accuracy: 0.9594 - auc: 0.8764 - auprc: 0.2906 - f1_score: 0.3772 - loss: 0.3386 - precision: 0.2515 - recall: 0.8121 - val_accuracy: 0.9911 - val_auc: 0.9417 - val_auprc: 0.7151 - val_f1_score: 0.6957 - val_loss: 0.2875 - val_precision: 0.5714 - val_recall: 0.8889\n",
      "Epoch 5/20\n",
      "\u001b[1m49/49\u001b[0m \u001b[32m━━━━━━━━━━━━━━━━━━━━\u001b[0m\u001b[37m\u001b[0m \u001b[1m4s\u001b[0m 83ms/step - accuracy: 0.9461 - auc: 0.8099 - auprc: 0.2135 - f1_score: 0.2948 - loss: 0.4979 - precision: 0.1973 - recall: 0.5892 - val_accuracy: 0.9911 - val_auc: 0.9958 - val_auprc: 0.6010 - val_f1_score: 0.6957 - val_loss: 0.1930 - val_precision: 0.5714 - val_recall: 0.8889\n",
      "Epoch 6/20\n",
      "\u001b[1m49/49\u001b[0m \u001b[32m━━━━━━━━━━━━━━━━━━━━\u001b[0m\u001b[37m\u001b[0m \u001b[1m4s\u001b[0m 81ms/step - accuracy: 0.9529 - auc: 0.8693 - auprc: 0.2960 - f1_score: 0.3722 - loss: 0.3575 - precision: 0.2528 - recall: 0.7437 - val_accuracy: 0.9885 - val_auc: 0.9414 - val_auprc: 0.5971 - val_f1_score: 0.6400 - val_loss: 0.1447 - val_precision: 0.5000 - val_recall: 0.8889\n",
      "Epoch 7/20\n",
      "\u001b[1m49/49\u001b[0m \u001b[32m━━━━━━━━━━━━━━━━━━━━\u001b[0m\u001b[37m\u001b[0m \u001b[1m4s\u001b[0m 82ms/step - accuracy: 0.9317 - auc: 0.8777 - auprc: 0.2420 - f1_score: 0.3344 - loss: 0.3388 - precision: 0.2292 - recall: 0.7998 - val_accuracy: 0.9872 - val_auc: 0.9974 - val_auprc: 0.6923 - val_f1_score: 0.6429 - val_loss: 0.2298 - val_precision: 0.4737 - val_recall: 1.0000\n",
      "Epoch 8/20\n",
      "\u001b[1m49/49\u001b[0m \u001b[32m━━━━━━━━━━━━━━━━━━━━\u001b[0m\u001b[37m\u001b[0m \u001b[1m4s\u001b[0m 83ms/step - accuracy: 0.9856 - auc: 0.8631 - auprc: 0.4992 - f1_score: 0.6097 - loss: 0.3258 - precision: 0.5516 - recall: 0.7291 - val_accuracy: 0.9821 - val_auc: 0.9941 - val_auprc: 0.6208 - val_f1_score: 0.5333 - val_loss: 0.2612 - val_precision: 0.3810 - val_recall: 0.8889\n",
      "Epoch 9/20\n",
      "\u001b[1m49/49\u001b[0m \u001b[32m━━━━━━━━━━━━━━━━━━━━\u001b[0m\u001b[37m\u001b[0m \u001b[1m4s\u001b[0m 85ms/step - accuracy: 0.9587 - auc: 0.8575 - auprc: 0.2813 - f1_score: 0.3485 - loss: 0.3016 - precision: 0.2267 - recall: 0.7735 - val_accuracy: 0.9923 - val_auc: 0.9982 - val_auprc: 0.8457 - val_f1_score: 0.7273 - val_loss: 0.1034 - val_precision: 0.6154 - val_recall: 0.8889\n",
      "Epoch 10/20\n",
      "\u001b[1m49/49\u001b[0m \u001b[32m━━━━━━━━━━━━━━━━━━━━\u001b[0m\u001b[37m\u001b[0m \u001b[1m4s\u001b[0m 84ms/step - accuracy: 0.9730 - auc: 0.9269 - auprc: 0.4754 - f1_score: 0.5223 - loss: 0.2139 - precision: 0.3859 - recall: 0.8724 - val_accuracy: 0.9707 - val_auc: 0.9904 - val_auprc: 0.4662 - val_f1_score: 0.4103 - val_loss: 0.2755 - val_precision: 0.2667 - val_recall: 0.8889\n",
      "Epoch 11/20\n",
      "\u001b[1m49/49\u001b[0m \u001b[32m━━━━━━━━━━━━━━━━━━━━\u001b[0m\u001b[37m\u001b[0m \u001b[1m4s\u001b[0m 82ms/step - accuracy: 0.9658 - auc: 0.8732 - auprc: 0.4220 - f1_score: 0.4072 - loss: 0.2694 - precision: 0.2794 - recall: 0.7895 - val_accuracy: 0.9796 - val_auc: 0.9931 - val_auprc: 0.5729 - val_f1_score: 0.5000 - val_loss: 0.1748 - val_precision: 0.3478 - val_recall: 0.8889\n",
      "Epoch 12/20\n",
      "\u001b[1m49/49\u001b[0m \u001b[32m━━━━━━━━━━━━━━━━━━━━\u001b[0m\u001b[37m\u001b[0m \u001b[1m5s\u001b[0m 82ms/step - accuracy: 0.9645 - auc: 0.8792 - auprc: 0.2989 - f1_score: 0.3639 - loss: 0.2525 - precision: 0.2394 - recall: 0.7821 - val_accuracy: 0.9809 - val_auc: 0.9393 - val_auprc: 0.5961 - val_f1_score: 0.5161 - val_loss: 0.2263 - val_precision: 0.3636 - val_recall: 0.8889\n",
      "Epoch 13/20\n",
      "\u001b[1m49/49\u001b[0m \u001b[32m━━━━━━━━━━━━━━━━━━━━\u001b[0m\u001b[37m\u001b[0m \u001b[1m4s\u001b[0m 84ms/step - accuracy: 0.9692 - auc: 0.9252 - auprc: 0.4691 - f1_score: 0.4645 - loss: 0.2610 - precision: 0.3212 - recall: 0.8479 - val_accuracy: 0.9783 - val_auc: 0.9389 - val_auprc: 0.5506 - val_f1_score: 0.4848 - val_loss: 0.2199 - val_precision: 0.3333 - val_recall: 0.8889\n",
      "Epoch 14/20\n",
      "\u001b[1m49/49\u001b[0m \u001b[32m━━━━━━━━━━━━━━━━━━━━\u001b[0m\u001b[37m\u001b[0m \u001b[1m4s\u001b[0m 84ms/step - accuracy: 0.9604 - auc: 0.9454 - auprc: 0.3756 - f1_score: 0.4032 - loss: 0.2458 - precision: 0.2662 - recall: 0.8412 - val_accuracy: 0.9936 - val_auc: 0.9429 - val_auprc: 0.7159 - val_f1_score: 0.7619 - val_loss: 0.0786 - val_precision: 0.6667 - val_recall: 0.8889\n",
      "Epoch 15/20\n",
      "\u001b[1m49/49\u001b[0m \u001b[32m━━━━━━━━━━━━━━━━━━━━\u001b[0m\u001b[37m\u001b[0m \u001b[1m4s\u001b[0m 84ms/step - accuracy: 0.9847 - auc: 0.8876 - auprc: 0.5366 - f1_score: 0.6249 - loss: 0.2204 - precision: 0.5233 - recall: 0.7975 - val_accuracy: 0.9923 - val_auc: 0.9423 - val_auprc: 0.7154 - val_f1_score: 0.7273 - val_loss: 0.1986 - val_precision: 0.6154 - val_recall: 0.8889\n",
      "Epoch 16/20\n",
      "\u001b[1m49/49\u001b[0m \u001b[32m━━━━━━━━━━━━━━━━━━━━\u001b[0m\u001b[37m\u001b[0m \u001b[1m4s\u001b[0m 84ms/step - accuracy: 0.9759 - auc: 0.8574 - auprc: 0.4043 - f1_score: 0.4566 - loss: 0.2528 - precision: 0.3291 - recall: 0.7521 - val_accuracy: 0.9643 - val_auc: 0.9903 - val_auprc: 0.3750 - val_f1_score: 0.3913 - val_loss: 0.2012 - val_precision: 0.2432 - val_recall: 1.0000\n",
      "Epoch 17/20\n",
      "\u001b[1m49/49\u001b[0m \u001b[32m━━━━━━━━━━━━━━━━━━━━\u001b[0m\u001b[37m\u001b[0m \u001b[1m4s\u001b[0m 82ms/step - accuracy: 0.9575 - auc: 0.9533 - auprc: 0.3787 - f1_score: 0.4205 - loss: 0.1760 - precision: 0.2803 - recall: 0.9085 - val_accuracy: 0.9541 - val_auc: 0.9888 - val_auprc: 0.3448 - val_f1_score: 0.3333 - val_loss: 0.3090 - val_precision: 0.2000 - val_recall: 1.0000\n",
      "Epoch 18/20\n",
      "\u001b[1m49/49\u001b[0m \u001b[32m━━━━━━━━━━━━━━━━━━━━\u001b[0m\u001b[37m\u001b[0m \u001b[1m4s\u001b[0m 84ms/step - accuracy: 0.9570 - auc: 0.9412 - auprc: 0.4306 - f1_score: 0.4502 - loss: 0.2044 - precision: 0.3008 - recall: 0.9069 - val_accuracy: 0.9809 - val_auc: 0.9924 - val_auprc: 0.4553 - val_f1_score: 0.5161 - val_loss: 0.1804 - val_precision: 0.3636 - val_recall: 0.8889\n",
      "Epoch 19/20\n",
      "\u001b[1m49/49\u001b[0m \u001b[32m━━━━━━━━━━━━━━━━━━━━\u001b[0m\u001b[37m\u001b[0m \u001b[1m4s\u001b[0m 84ms/step - accuracy: 0.9672 - auc: 0.9266 - auprc: 0.4160 - f1_score: 0.4363 - loss: 0.2489 - precision: 0.2950 - recall: 0.8594 - val_accuracy: 0.9821 - val_auc: 0.9937 - val_auprc: 0.5126 - val_f1_score: 0.5333 - val_loss: 0.1814 - val_precision: 0.3810 - val_recall: 0.8889\n",
      "Epoch 20/20\n",
      "\u001b[1m49/49\u001b[0m \u001b[32m━━━━━━━━━━━━━━━━━━━━\u001b[0m\u001b[37m\u001b[0m \u001b[1m4s\u001b[0m 86ms/step - accuracy: 0.9627 - auc: 0.8715 - auprc: 0.3153 - f1_score: 0.4019 - loss: 0.2522 - precision: 0.2776 - recall: 0.7642 - val_accuracy: 0.9834 - val_auc: 0.9943 - val_auprc: 0.5201 - val_f1_score: 0.5517 - val_loss: 0.1514 - val_precision: 0.4000 - val_recall: 0.8889\n"
     ]
    }
   ],
   "source": [
    "_, history = wrapper.retrain_best_model(train, val)"
   ]
  },
  {
   "cell_type": "code",
   "execution_count": 77,
   "id": "a482a185-0582-404c-b1e3-bfc568bc4873",
   "metadata": {},
   "outputs": [
    {
     "data": {
      "image/png": "[encoded data removed]",
      "text/plain": [
       "<Figure size 1000x600 with 1 Axes>"
      ]
     },
     "metadata": {},
     "output_type": "display_data"
    },
    {
     "data": {
      "image/png": "[encoded data removed]",
      "text/plain": [
       "<Figure size 1000x600 with 1 Axes>"
      ]
     },
     "metadata": {},
     "output_type": "display_data"
    }
   ],
   "source": [
    "import matplotlib.pyplot as plt\n",
    "\n",
    "# Plot the training history\n",
    "plt.figure(figsize=(10, 6))\n",
    "plt.plot(history.history['loss'], label='Train Loss')\n",
    "plt.plot(history.history['val_loss'], label='Validation Loss')\n",
    "plt.xlabel('Epochs')\n",
    "plt.ylabel('Loss')\n",
    "plt.title('Loss Over Epochs')\n",
    "plt.legend()\n",
    "plt.grid()\n",
    "plt.show()\n",
    "\n",
    "# Additional plots for other metrics\n",
    "plt.figure(figsize=(10, 6))\n",
    "plt.plot(history.history['accuracy'], label='Train Accuracy')\n",
    "plt.plot(history.history['val_accuracy'], label='Validation Accuracy')\n",
    "plt.xlabel('Epochs')\n",
    "plt.ylabel('Accuracy')\n",
    "plt.title('Accuracy Over Epochs')\n",
    "plt.legend()\n",
    "plt.grid()\n",
    "plt.show()\n"
   ]
  },
  {
   "cell_type": "code",
   "execution_count": null,
   "id": "d6ebc047-7f19-4d5c-91b7-532096c54d04",
   "metadata": {},
   "outputs": [],
   "source": []
  }
 ],
 "metadata": {
  "kernelspec": {
   "display_name": "Tensorflow 2.13.0",
   "language": "python",
   "name": "tensorflow-2.13.0"
  },
  "language_info": {
   "codemirror_mode": {
    "name": "ipython",
    "version": 3
   },
   "file_extension": ".py",
   "mimetype": "text/x-python",
   "name": "python",
   "nbconvert_exporter": "python",
   "pygments_lexer": "ipython3",
   "version": "3.10.12"
  }
 },
 "nbformat": 4,
 "nbformat_minor": 5
}
